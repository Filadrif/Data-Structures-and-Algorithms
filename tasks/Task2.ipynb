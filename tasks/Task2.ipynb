{
 "cells": [
  {
   "cell_type": "markdown",
   "id": "5b2f30af",
   "metadata": {},
   "source": [
    "# Задача 1\n",
    "Массив A состоит из целых положительных чисел ­ длин отрезков. Составьте из трех отрезков такой треугольник, чтобы его периметр был максимально возможным. Если невозможно составить треугольник с положительной площадью ­ функция возвращает 0."
   ]
  },
  {
   "cell_type": "code",
   "execution_count": null,
   "id": "109c1dac",
   "metadata": {},
   "outputs": [],
   "source": [
    "def max_perimeter(arr):\n",
    "    max_p = 0\n",
    "    n = len(arr)\n",
    "    arr.sort(reverse = True)\n",
    "    for i in range(0, n - 2):\n",
    "        if arr[i] < (arr[i + 1] + arr[i + 2]):\n",
    "            max_p = max(max_p, arr[i] + arr[i + 1] + arr[i + 2])\n",
    "            break\n",
    "    return max_p"
   ]
  },
  {
   "cell_type": "markdown",
   "id": "4a500c4b",
   "metadata": {},
   "source": [
    "# Задача 2\n",
    "Дан массив неотрицательных целых чисел nums. Расположите их в таком порядке, чтобы вместе они образовали максимально возможное число. Замечание: Результат может быть очень большим числом, поэтому представьте его как string, а не integer."
   ]
  },
  {
   "cell_type": "code",
   "execution_count": null,
   "id": "0b82cc4a",
   "metadata": {},
   "outputs": [],
   "source": [
    "def my_sort(nums):\n",
    "    for i in range(len(nums)):\n",
    "        for j in range(len(nums) - i -1):\n",
    "            digit = 0\n",
    "            current, next_el = str(nums[j]),str(nums[j + 1])\n",
    "            while len(current) != len(next_el):\n",
    "                if len(current) < len(next_el):\n",
    "                    current += '1'\n",
    "                elif len(current) > len(next_el):\n",
    "                    next_el += '1'\n",
    "            while digit < len(current): \n",
    "                if current[digit] < next_el[digit]:\n",
    "                    nums[j], nums[j + 1] = nums[j + 1], nums[j]\n",
    "                    break\n",
    "                digit += 1\n",
    "                \n",
    "    \n",
    "    \n",
    "def task_02(nums):\n",
    "    number = ''\n",
    "    my_sort(nums)\n",
    "    for digit in nums:\n",
    "        number += str(digit)\n",
    "    return number\n"
   ]
  },
  {
   "cell_type": "markdown",
   "id": "c5c7e4dc",
   "metadata": {},
   "source": [
    "# Задача 3\n",
    "Дана матрица mat размером m * n, значения ­ целочисленные. Напишите функцию, сортирующую каждую диагональ матрицы по возрастанию и возвращающую получившуюся матрицу."
   ]
  },
  {
   "cell_type": "code",
   "execution_count": 53,
   "id": "c52e3bb4",
   "metadata": {},
   "outputs": [
    {
     "name": "stdout",
     "output_type": "stream",
     "text": [
      "Исходная матрица\n",
      "[9, 2, 3, 2, 3]\n",
      "[9, 8, 7, 4, 1]\n",
      "[6, 7, 5, 0, 2]\n",
      "[7, 8, 9, 5, 7]\n",
      "Отсортированная матрица\n",
      "[5, 0, 2, 1, 3]\n",
      "[7, 5, 2, 3, 2]\n",
      "[6, 9, 8, 7, 4]\n",
      "[7, 8, 9, 9, 7]\n"
     ]
    }
   ],
   "source": [
    "# m - строки\n",
    "# n - столбцы\n",
    "def sort_matrix(mat,m,n):\n",
    "    counter_x = m - 1\n",
    "    counter_y = 1\n",
    "    # проход по OY\n",
    "    while counter_y < n:\n",
    "        new_counter_x = counter_x\n",
    "        new_counter_y = counter_y\n",
    "        diagonal = []\n",
    "        # Записываем диагональ в отдельный список\n",
    "        while new_counter_x >= 0 and new_counter_y >= 0:\n",
    "            diagonal.append(mat[new_counter_x][new_counter_y])\n",
    "            new_counter_x -= 1\n",
    "            new_counter_y -= 1\n",
    "        diagonal.sort(reverse = True)\n",
    "        new_counter_x += 1\n",
    "        new_counter_y += 1\n",
    "        # Возвращаем отсортированную диагональ на место\n",
    "        while new_counter_x <= counter_x and new_counter_y <= counter_y:\n",
    "            #print('x=',new_counter_x,' y=',new_counter_y)\n",
    "            mat[new_counter_x][new_counter_y] = diagonal.pop()\n",
    "            new_counter_x += 1\n",
    "            new_counter_y += 1\n",
    "        counter_y += 1\n",
    "        \n",
    "    # проход по OX\n",
    "    counter_y -= 1\n",
    "    counter_x -= 1\n",
    "    while counter_x != 0:\n",
    "        new_counter_x = counter_x\n",
    "        new_counter_y = counter_y\n",
    "        diagonal = []\n",
    "        while new_counter_x >= 0 and new_counter_y >= 0:\n",
    "            diagonal.append(mat[new_counter_x][new_counter_y])\n",
    "            new_counter_x -= 1\n",
    "            new_counter_y -= 1\n",
    "        diagonal.sort(reverse = True)\n",
    "        new_counter_x += 1\n",
    "        new_counter_y += 1\n",
    "        while new_counter_x <= counter_x and new_counter_y <= counter_y:\n",
    "            mat[new_counter_x][new_counter_y] = diagonal.pop()\n",
    "            new_counter_x += 1\n",
    "            new_counter_y += 1\n",
    "        counter_x -= 1\n",
    "        \n",
    "    return mat\n",
    "\n",
    "m = 4\n",
    "n = 5\n",
    "mat = [[9,2,3,2,3],[9,8,7,4,1],[6,7,5,0,2],[7,8,9,5,7]]\n",
    "print('Исходная матрица')\n",
    "for i in range(m):\n",
    "    print(mat[i])\n",
    "mat = sort_matrix(mat,m,n)\n",
    "print('Отсортированная матрица')\n",
    "for i in range(m):\n",
    "    print(mat[i])"
   ]
  },
  {
   "cell_type": "code",
   "execution_count": null,
   "id": "adb81087",
   "metadata": {},
   "outputs": [],
   "source": []
  }
 ],
 "metadata": {
  "kernelspec": {
   "display_name": "Python 3 (ipykernel)",
   "language": "python",
   "name": "python3"
  },
  "language_info": {
   "codemirror_mode": {
    "name": "ipython",
    "version": 3
   },
   "file_extension": ".py",
   "mimetype": "text/x-python",
   "name": "python",
   "nbconvert_exporter": "python",
   "pygments_lexer": "ipython3",
   "version": "3.9.7"
  }
 },
 "nbformat": 4,
 "nbformat_minor": 5
}

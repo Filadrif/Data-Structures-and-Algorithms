{
 "cells": [
  {
   "cell_type": "markdown",
   "id": "fifteen-sailing",
   "metadata": {},
   "source": [
    "# Лабораторная работа №2\n",
    "## Выполнил студент группы ГРУППА ФИО"
   ]
  },
  {
   "cell_type": "markdown",
   "id": "particular-syndicate",
   "metadata": {},
   "source": [
    "### Оглавление\n",
    "1. [Задание 1](#Задание-№1)\n",
    "2. [Задание 2](#Задание-№2)\n",
    "3. [Задание 3](#Задание-№3)"
   ]
  },
  {
   "cell_type": "markdown",
   "id": "arctic-stocks",
   "metadata": {},
   "source": [
    "### Задание №1\n",
    "Реализовать методы поиска в соответствии с заданием. Организовать генерацию начального набора случайных данных. Для всех вариантов добавить реализацию добавления, поиска и удаления элементов. Оценить время работы каждого алгоритма поиска и сравнить его со временем работы стандартной функции поиска, используемой в выбранном языке программирования."
   ]
  },
  {
   "cell_type": "code",
   "execution_count": 49,
   "id": "66084bcf",
   "metadata": {},
   "outputs": [
    {
     "name": "stdout",
     "output_type": "stream",
     "text": [
      "Введите длину набора случайных чисел 10000\n",
      "Введите минимально возможный элемент в наборе 0\n",
      "Введите максимально возможный элемент в наборе 10000\n"
     ]
    }
   ],
   "source": [
    "#Генерация начального набора случайных чисел\n",
    "import time\n",
    "import random\n",
    "import copy\n",
    "\n",
    "length = int(input('Введите длину набора случайных чисел '))\n",
    "min_limit = int(input('Введите минимально возможный элемент в наборе '))\n",
    "max_limit = int(input('Введите максимально возможный элемент в наборе '))\n",
    "\n",
    "random_list = []\n",
    "for i in range(length):\n",
    "    random_list.append(random.randint(min_limit, max_limit))\n",
    "\n",
    "random_list.sort() \n",
    "element = random_list[random.randint(0, length - 1)]"
   ]
  },
  {
   "cell_type": "code",
   "execution_count": 67,
   "id": "caring-truck",
   "metadata": {
    "scrolled": true
   },
   "outputs": [
    {
     "name": "stdout",
     "output_type": "stream",
     "text": [
      "1398\n",
      "--- 997 ns ---\n"
     ]
    }
   ],
   "source": [
    "#Бинарный поиск\n",
    "def BinarySearch(array, value):\n",
    "    first = 0\n",
    "    last = len(array)-1\n",
    "    index = -1\n",
    "    while (first <= last) and (index == -1):\n",
    "        mid = (first + last) // 2\n",
    "        if array[mid] == value:\n",
    "            index = mid\n",
    "            break\n",
    "        else:\n",
    "            if value < array[mid]:\n",
    "                last = mid -1\n",
    "            else:\n",
    "                first = mid +1\n",
    "    return index\n",
    "\n",
    "def BinaryRemove(array, value):\n",
    "    pass\n",
    "\n",
    "def BinaryAppend(array, value):\n",
    "    pass\n",
    "\n",
    "start_time = time.time()\n",
    "print(BinarySearch(random_list, element))\n",
    "binary_time = round((time.time() - start_time)*1000000)\n",
    "print(\"--- {0} ns ---\".format(binary_time))"
   ]
  },
  {
   "cell_type": "code",
   "execution_count": 51,
   "id": "75af3ea8",
   "metadata": {},
   "outputs": [],
   "source": [
    "#Бинарное дерево"
   ]
  },
  {
   "cell_type": "code",
   "execution_count": 61,
   "id": "abe4b0b4",
   "metadata": {},
   "outputs": [
    {
     "name": "stdout",
     "output_type": "stream",
     "text": [
      "1398\n",
      "--- 998 ns ---\n"
     ]
    }
   ],
   "source": [
    "#Метод Фибоначчи\n",
    "def FibonacciSearch(array, value):\n",
    "    fibM_minus_2 = 0\n",
    "    fibM_minus_1 = 1\n",
    "    fibM = fibM_minus_1 + fibM_minus_2\n",
    "    while (fibM < len(array)):\n",
    "        fibM_minus_2 = fibM_minus_1\n",
    "        fibM_minus_1 = fibM\n",
    "        fibM = fibM_minus_1 + fibM_minus_2\n",
    "    index = -1;\n",
    "    while (fibM > 1):\n",
    "        i = min(index + fibM_minus_2, (len(array)-1))\n",
    "        if (array[i] < value):\n",
    "            fibM = fibM_minus_1\n",
    "            fibM_minus_1 = fibM_minus_2\n",
    "            fibM_minus_2 = fibM - fibM_minus_1\n",
    "            index = i\n",
    "        elif (array[i] > value):\n",
    "            fibM = fibM_minus_2\n",
    "            fibM_minus_1 = fibM_minus_1 - fibM_minus_2\n",
    "            fibM_minus_2 = fibM - fibM_minus_1\n",
    "        else :\n",
    "            return i\n",
    "    if(fibM_minus_1 and index < (len(array)-1) and lys[index+1] == value):\n",
    "        return index+1;\n",
    "    return -1\n",
    "\n",
    "def FibonacciRemove(array, value):\n",
    "    pass\n",
    "\n",
    "def FibonacciAppend(array, value):\n",
    "    pass\n",
    "\n",
    "start_time = time.time()\n",
    "print(FibonacciSearch(random_list, element))\n",
    "fibonacci_time = round((time.time() - start_time)*1000000)\n",
    "print(\"--- {0} ns ---\".format(fibonacci_time))"
   ]
  },
  {
   "cell_type": "code",
   "execution_count": 57,
   "id": "34ec2894",
   "metadata": {},
   "outputs": [
    {
     "name": "stdout",
     "output_type": "stream",
     "text": [
      "1398\n",
      "--- 993 ns ---\n"
     ]
    }
   ],
   "source": [
    "#Интерполяционный\n",
    "def InterpolationSearch(array, value):\n",
    "    low = 0\n",
    "    high = (len(array) - 1)\n",
    "    while low <= high and element >= array[low] and value <= array[high]:\n",
    "        index = low + int(((float(high - low) / ( array[high] - array[low])) * ( value - array[low])))\n",
    "        if array[index] == value:\n",
    "            return index\n",
    "        if array[index] < value:\n",
    "            low = index + 1;\n",
    "        else:\n",
    "            high = index - 1;\n",
    "    return -1\n",
    "\n",
    "def InterpolationRemove(array, value):\n",
    "    pass\n",
    "\n",
    "def InterpolationAppend(array, value):\n",
    "    pass\n",
    "\n",
    "start_time = time.time()\n",
    "print(FibonacciSearch(random_list, element))\n",
    "interpolation_time = round((time.time() - start_time)*1000000)\n",
    "print(\"--- {0} ns ---\".format(interpolation_time))"
   ]
  },
  {
   "cell_type": "code",
   "execution_count": 68,
   "id": "5618e25c",
   "metadata": {},
   "outputs": [
    {
     "name": "stdout",
     "output_type": "stream",
     "text": [
      "Бинарный поиск           --- 997 ns ---\n",
      "Метод Фибоначчи          --- 998 ns ---\n",
      "Интерполяционный поиск   --- 993 ns ---\n"
     ]
    }
   ],
   "source": [
    "#Вывод\n",
    "print(\"{1:24s} --- {0} ns ---\".format(binary_time,'Бинарный поиск'))\n",
    "print(\"{1:24s} --- {0} ns ---\".format(fibonacci_time,'Метод Фибоначчи'))\n",
    "print(\"{1:24s} --- {0} ns ---\".format(interpolation_time,'Интерполяционный поиск'))"
   ]
  },
  {
   "cell_type": "markdown",
   "id": "maritime-conversation",
   "metadata": {},
   "source": [
    "### Задание №2\n",
    "Написать соответствующие решения для заданных методов."
   ]
  },
  {
   "cell_type": "code",
   "execution_count": 22,
   "id": "97f9de37",
   "metadata": {},
   "outputs": [],
   "source": [
    "#Простое рехэширование"
   ]
  },
  {
   "cell_type": "code",
   "execution_count": 23,
   "id": "b4b80e3a",
   "metadata": {},
   "outputs": [],
   "source": [
    "#Рехэширование с помощью псевдослучайных чисел\n"
   ]
  },
  {
   "cell_type": "code",
   "execution_count": 24,
   "id": "1addc092",
   "metadata": {},
   "outputs": [],
   "source": [
    "#Метод цепочек"
   ]
  },
  {
   "cell_type": "markdown",
   "id": "catholic-roots",
   "metadata": {},
   "source": [
    "### Задание №3\n",
    "Расставить на стандартной 64-клеточной шахматной доске 8 ферзей так, чтобы ни один из них не находился под боем другого». Подразумевается, что ферзь бьёт все клетки, расположенные по вертикалям, горизонталям и обеим диагоналям\n",
    "Написать программу,  которая находит хотя бы один способ решения задач.\n"
   ]
  },
  {
   "cell_type": "code",
   "execution_count": 3,
   "id": "09de30c9",
   "metadata": {},
   "outputs": [
    {
     "name": "stdout",
     "output_type": "stream",
     "text": [
      "[0, 0, 0, 0, 0, 0, 0, 0]\n",
      "[0, 0, 0, 0, 0, 0, 0, 0]\n",
      "[0, 0, 0, 0, 0, 0, 0, 0]\n",
      "[0, 0, 0, 0, 0, 0, 0, 0]\n",
      "[0, 0, 0, 0, 0, 0, 0, 0]\n",
      "[0, 0, 0, 0, 0, 0, 0, 0]\n",
      "[0, 0, 0, 0, 0, 0, 0, 0]\n",
      "[0, 0, 0, 0, 0, 0, 0, 0]\n"
     ]
    }
   ],
   "source": [
    "TABLE_SIZE = 8\n",
    "\n",
    "def print_matrix(matrix):\n",
    "    for i in range(len(matrix)):\n",
    "        print(matrix[i])\n",
    "\n",
    "# альтернативное решение рандомим числа и далее используя \n",
    "        \n",
    "# решение через коня, где мы добавляем каждый раз ход коня\n",
    "def eight_queens_solution(table):\n",
    "    counter = 1\n",
    "    x_pos, y_pos = 0, 0\n",
    "    step_x, step_y = 2, 1\n",
    "    \n",
    "    table[0][0] = 1\n",
    "    \n",
    "    while counter < TABLE_SIZE:\n",
    "        break\n",
    "        \n",
    "table = [[0]*8]*8\n",
    "eight_queens_solution(table)\n",
    "print_matrix(table)"
   ]
  }
 ],
 "metadata": {
  "kernelspec": {
   "display_name": "Python 3 (ipykernel)",
   "language": "python",
   "name": "python3"
  },
  "language_info": {
   "codemirror_mode": {
    "name": "ipython",
    "version": 3
   },
   "file_extension": ".py",
   "mimetype": "text/x-python",
   "name": "python",
   "nbconvert_exporter": "python",
   "pygments_lexer": "ipython3",
   "version": "3.9.7"
  }
 },
 "nbformat": 4,
 "nbformat_minor": 5
}

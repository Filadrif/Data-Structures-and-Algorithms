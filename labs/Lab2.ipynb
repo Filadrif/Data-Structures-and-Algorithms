{
 "cells": [
  {
   "cell_type": "markdown",
   "id": "fifteen-sailing",
   "metadata": {},
   "source": [
    "# Лабораторная работа №2\n",
    "## Выполнил студент группы ГРУППА ФИО"
   ]
  },
  {
   "cell_type": "markdown",
   "id": "particular-syndicate",
   "metadata": {},
   "source": [
    "### Оглавление\n",
    "1. [Задание 1](#Задание-№1)\n",
    "2. [Задание 2](#Задание-№2)\n",
    "3. [Задание 3](#Задание-№3)"
   ]
  },
  {
   "cell_type": "markdown",
   "id": "arctic-stocks",
   "metadata": {},
   "source": [
    "### Задание №1\n",
    "Реализовать методы поиска в соответствии с заданием. Организовать генерацию начального набора случайных данных. Для всех вариантов добавить реализацию добавления, поиска и удаления элементов. Оценить время работы каждого алгоритма поиска и сравнить его со временем работы стандартной функции поиска, используемой в выбранном языке программирования."
   ]
  },
  {
   "cell_type": "code",
   "execution_count": 75,
   "id": "66084bcf",
   "metadata": {},
   "outputs": [
    {
     "name": "stdout",
     "output_type": "stream",
     "text": [
      "Введите длину набора случайных чисел 100\n",
      "Введите минимально возможный элемент в наборе 0\n",
      "Введите максимально возможный элемент в наборе 10\n"
     ]
    }
   ],
   "source": [
    "#Генерация начального набора случайных чисел\n",
    "import time\n",
    "import random\n",
    "import copy\n",
    "\n",
    "length = int(input('Введите длину набора случайных чисел '))\n",
    "min_limit = int(input('Введите минимально возможный элемент в наборе '))\n",
    "max_limit = int(input('Введите максимально возможный элемент в наборе '))\n",
    "\n",
    "random_list = []\n",
    "for i in range(length):\n",
    "    random_list.append(random.randint(min_limit, max_limit))\n",
    "\n",
    "random_list.sort() \n",
    "element = random_list[random.randint(0, length - 1)]"
   ]
  },
  {
   "cell_type": "code",
   "execution_count": 76,
   "id": "caring-truck",
   "metadata": {
    "scrolled": true
   },
   "outputs": [
    {
     "name": "stdout",
     "output_type": "stream",
     "text": [
      "24\n",
      "--- 1 ms ---\n"
     ]
    }
   ],
   "source": [
    "#Бинарный поиск\n",
    "def BinarySearch(array, value):\n",
    "    first = 0\n",
    "    last = len(array)-1\n",
    "    index = -1\n",
    "    while (first <= last) and (index == -1):\n",
    "        mid = (first + last) // 2\n",
    "        if array[mid] == value:\n",
    "            index = mid\n",
    "            break\n",
    "        else:\n",
    "            if value < array[mid]:\n",
    "                last = mid -1\n",
    "            else:\n",
    "                first = mid +1\n",
    "    return index\n",
    "\n",
    "def BinaryRemove(array, value):\n",
    "    pass\n",
    "\n",
    "def BinaryAppend(array, value):\n",
    "    pass\n",
    "\n",
    "start_time = time.time()\n",
    "print(BinarySearch(random_list, element))\n",
    "print(\"--- {0} ms ---\".format(round((time.time() - start_time)*1000)))"
   ]
  },
  {
   "cell_type": "code",
   "execution_count": 77,
   "id": "75af3ea8",
   "metadata": {},
   "outputs": [],
   "source": [
    "#Бинарное дерево"
   ]
  },
  {
   "cell_type": "code",
   "execution_count": 78,
   "id": "abe4b0b4",
   "metadata": {},
   "outputs": [
    {
     "name": "stdout",
     "output_type": "stream",
     "text": [
      "20\n",
      "--- 1 ms ---\n",
      "[0, 0, 0, 0, 0, 0, 0, 1, 1, 1, 1, 1, 1, 1, 1, 1, 1, 1, 1, 2, 2, 2, 2, 2, 2, 2, 3, 3, 3, 4, 4, 4, 4, 4, 4, 4, 4, 4, 4, 4, 5, 5, 5, 5, 5, 5, 5, 5, 5, 5, 5, 6, 6, 6, 6, 6, 6, 6, 6, 7, 7, 7, 7, 7, 7, 7, 7, 7, 7, 7, 8, 8, 8, 8, 8, 8, 8, 8, 8, 8, 8, 8, 9, 9, 9, 9, 9, 9, 10, 10, 10, 10, 10, 10, 10, 10, 10, 10, 10, 10] 2\n"
     ]
    }
   ],
   "source": [
    "#Метод Фибоначчи\n",
    "def FibonacciSearch(array, value):\n",
    "    fibM_minus_2 = 0\n",
    "    fibM_minus_1 = 1\n",
    "    fibM = fibM_minus_1 + fibM_minus_2\n",
    "    while (fibM < len(array)):\n",
    "        fibM_minus_2 = fibM_minus_1\n",
    "        fibM_minus_1 = fibM\n",
    "        fibM = fibM_minus_1 + fibM_minus_2\n",
    "    index = -1;\n",
    "    while (fibM > 1):\n",
    "        i = min(index + fibM_minus_2, (len(array)-1))\n",
    "        if (array[i] < value):\n",
    "            fibM = fibM_minus_1\n",
    "            fibM_minus_1 = fibM_minus_2\n",
    "            fibM_minus_2 = fibM - fibM_minus_1\n",
    "            index = i\n",
    "        elif (array[i] > value):\n",
    "            fibM = fibM_minus_2\n",
    "            fibM_minus_1 = fibM_minus_1 - fibM_minus_2\n",
    "            fibM_minus_2 = fibM - fibM_minus_1\n",
    "        else :\n",
    "            return i\n",
    "    if(fibM_minus_1 and index < (len(array)-1) and lys[index+1] == value):\n",
    "        return index+1;\n",
    "    return -1\n",
    "\n",
    "def FibonacciRemove(array, value):\n",
    "    pass\n",
    "\n",
    "def FibonacciAppend(array, value):\n",
    "    pass\n",
    "\n",
    "start_time = time.time()\n",
    "print(FibonacciSearch(random_list, element))\n",
    "print(\"--- {0} ms ---\".format(round((time.time() - start_time)*1000)))\n",
    "print(random_list, element)"
   ]
  },
  {
   "cell_type": "code",
   "execution_count": 79,
   "id": "34ec2894",
   "metadata": {},
   "outputs": [
    {
     "name": "stdout",
     "output_type": "stream",
     "text": [
      "20\n",
      "--- 0 ms ---\n"
     ]
    }
   ],
   "source": [
    "#Интерполяционный\n",
    "def InterpolationSearch(array, value):\n",
    "    low = 0\n",
    "    high = (len(array) - 1)\n",
    "    while low <= high and element >= array[low] and value <= array[high]:\n",
    "        index = low + int(((float(high - low) / ( array[high] - array[low])) * ( value - array[low])))\n",
    "        if array[index] == value:\n",
    "            return index\n",
    "        if array[index] < value:\n",
    "            low = index + 1;\n",
    "        else:\n",
    "            high = index - 1;\n",
    "    return -1\n",
    "\n",
    "def InterpolationRemove(array, value):\n",
    "    pass\n",
    "\n",
    "def InterpolationAppend(array, value):\n",
    "    pass\n",
    "\n",
    "start_time = time.time()\n",
    "print(FibonacciSearch(random_list, element))\n",
    "print(\"--- {0} ms ---\".format(round((time.time() - start_time)*1000)))"
   ]
  },
  {
   "cell_type": "code",
   "execution_count": 21,
   "id": "5618e25c",
   "metadata": {},
   "outputs": [],
   "source": [
    "#Вывод\n"
   ]
  },
  {
   "cell_type": "markdown",
   "id": "maritime-conversation",
   "metadata": {},
   "source": [
    "### Задание №2\n",
    "Написать соответствующие решения для заданных методов."
   ]
  },
  {
   "cell_type": "code",
   "execution_count": 22,
   "id": "97f9de37",
   "metadata": {},
   "outputs": [],
   "source": [
    "#Простое рехэширование"
   ]
  },
  {
   "cell_type": "code",
   "execution_count": 23,
   "id": "b4b80e3a",
   "metadata": {},
   "outputs": [],
   "source": [
    "#Рехэширование с помощью псевдослучайных чисел\n"
   ]
  },
  {
   "cell_type": "code",
   "execution_count": 24,
   "id": "1addc092",
   "metadata": {},
   "outputs": [],
   "source": [
    "#Метод цепочек"
   ]
  },
  {
   "cell_type": "markdown",
   "id": "catholic-roots",
   "metadata": {},
   "source": [
    "### Задание №3\n",
    "Расставить на стандартной 64-клеточной шахматной доске 8 ферзей так, чтобы ни один из них не находился под боем другого». Подразумевается, что ферзь бьёт все клетки, расположенные по вертикалям, горизонталям и обеим диагоналям\n",
    "Написать программу,  которая находит хотя бы один способ решения задач.\n"
   ]
  },
  {
   "cell_type": "code",
   "execution_count": null,
   "id": "09de30c9",
   "metadata": {},
   "outputs": [],
   "source": []
  }
 ],
 "metadata": {
  "kernelspec": {
   "display_name": "Python 3 (ipykernel)",
   "language": "python",
   "name": "python3"
  },
  "language_info": {
   "codemirror_mode": {
    "name": "ipython",
    "version": 3
   },
   "file_extension": ".py",
   "mimetype": "text/x-python",
   "name": "python",
   "nbconvert_exporter": "python",
   "pygments_lexer": "ipython3",
   "version": "3.9.7"
  }
 },
 "nbformat": 4,
 "nbformat_minor": 5
}

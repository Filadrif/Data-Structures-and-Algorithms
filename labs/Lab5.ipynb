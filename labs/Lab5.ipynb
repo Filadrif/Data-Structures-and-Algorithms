{
 "cells": [
  {
   "cell_type": "markdown",
   "metadata": {
    "id": "WPvB9TcMmKA6"
   },
   "source": [
    "# Лабораторная работа №5\n",
    "# Рекурсия. Фракталы."
   ]
  },
  {
   "cell_type": "markdown",
   "metadata": {
    "id": "96Gi_LEvmSVH"
   },
   "source": [
    "## Выполнил студент группы БВТ2005 Мокин Александр\n",
    "***"
   ]
  },
  {
   "cell_type": "markdown",
   "metadata": {
    "id": "4clYOyb0mbEv"
   },
   "source": [
    "### Задание:\n",
    "Реализовать генерацию заданного типа фрактала с применением рекурсивных функций.\n",
    "\n",
    "\n",
    "Добавить возможность задания глубины фрактала. \n",
    "\n",
    "\n",
    "Оценить глубину рекурсии. \n",
    "\n",
    "\n",
    "Построить таблицу зависимости времени построения от глубины фрактала."
   ]
  },
  {
   "cell_type": "markdown",
   "metadata": {
    "id": "wDXHbUmMmhRL"
   },
   "source": [
    "### Список фракталов:\n",
    "\n",
    "Кривая Коха\n",
    "| Кривая Гильберта\n",
    "| Кривая Серпинского\n",
    "| Салфетка Серпинского\n",
    "| __Ковер Серпинского__\n",
    "| Дерево Пифагора "
   ]
  },
  {
   "cell_type": "code",
   "execution_count": 14,
   "metadata": {},
   "outputs": [],
   "source": [
    "# Необходим при замере скорости выполнения кода\n",
    "from datetime import datetime as t"
   ]
  },
  {
   "cell_type": "markdown",
   "metadata": {
    "id": "Wggfn8l7nG72"
   },
   "source": [
    "### Выполнение:"
   ]
  },
  {
   "cell_type": "code",
   "execution_count": 24,
   "metadata": {
    "id": "681a95mZnOSa"
   },
   "outputs": [
    {
     "name": "stdout",
     "output_type": "stream",
     "text": [
      "Глубина 0 время --- 0 ms ---\n",
      "Глубина 1 время --- 0 ms ---\n",
      "Глубина 2 время --- 0 ms ---\n",
      "Глубина 3 время --- 0 ms ---\n",
      "Глубина 4 время --- 0 ms ---\n",
      "Глубина 5 время --- 0 ms ---\n",
      "Глубина 6 время --- 0 ms ---\n",
      "Глубина 7 время --- 1 ms ---\n",
      "Глубина 8 время --- 11 ms ---\n",
      "Глубина 9 время --- 12 ms ---\n",
      "Глубина 10 время --- 11 ms ---\n",
      "Глубина 11 время --- 12 ms ---\n",
      "Глубина 12 время --- 13 ms ---\n",
      "Глубина 13 время --- 12 ms ---\n",
      "Глубина 14 время --- 12 ms ---\n",
      "Глубина 15 время --- 14 ms ---\n",
      "Глубина 16 время --- 16 ms ---\n",
      "Глубина 17 время --- 15 ms ---\n",
      "Глубина 18 время --- 14 ms ---\n",
      "Глубина 19 время --- 13 ms ---\n",
      "Глубина 20 время --- 16 ms ---\n"
     ]
    }
   ],
   "source": [
    "import pygame as pg\n",
    "from pygame.locals import *\n",
    "from sys import exit\n",
    "\n",
    "WIDTH = 2700\n",
    "HEIGHT = 2700\n",
    "SIDE_LEN = 2700\n",
    "F_COLOR = (25, 255, 255)\n",
    "\n",
    "def serpiensky_carpet(screen, level, side = SIDE_LEN, pos_x = 0, pos_y = 0):\n",
    "    if level and side >= 1:\n",
    "        new_side = side // 3\n",
    "        square = (pos_x + new_side,pos_y + new_side, new_side, new_side)\n",
    "        pg.draw.rect(screen, F_COLOR, square)\n",
    "        for i in range(-1, 2):\n",
    "            for j in range(-1, 2):\n",
    "                if i != 0 or j != 0:\n",
    "                    serpiensky_carpet(screen, level - 1, new_side, pos_x + new_side + new_side * i, pos_y + new_side + new_side * j)\n",
    "\n",
    "\n",
    "def main(exe_time, level, is_testing = False):\n",
    "    pg.init()\n",
    "\n",
    "    pg.display.set_caption('Serpiensky carpet') \n",
    "    screen = pg.display.set_mode((WIDTH, HEIGHT))\n",
    "    start = t.now()\n",
    "    serpiensky_carpet(screen, level, side= SIDE_LEN)\n",
    "    finish = t.now() - start\n",
    "    exe_time.append(finish)\n",
    "    if is_testing:\n",
    "        return\n",
    "    while True:\n",
    "        for event in pg.event.get():\n",
    "            if event.type == pg.QUIT:\n",
    "                pg.quit()\n",
    "                exit()  \n",
    "        if is_testing:\n",
    "            pg.quit()\n",
    "        pg.display.update()\n",
    "\n",
    "        \n",
    "exe_time = []      \n",
    "for level in range(21):\n",
    "    main(exe_time,level, True)\n",
    "for i in range(21):\n",
    "    print(\"Глубина {1} время --- {0} ms ---\".format(exe_time[i].seconds, i))\n"
   ]
  },
  {
   "cell_type": "markdown",
   "metadata": {
    "id": "diOb-K7LnO5a"
   },
   "source": [
    "### Вывод"
   ]
  },
  {
   "cell_type": "code",
   "execution_count": 10,
   "metadata": {},
   "outputs": [],
   "source": []
  },
  {
   "cell_type": "code",
   "execution_count": null,
   "metadata": {},
   "outputs": [],
   "source": []
  }
 ],
 "metadata": {
  "colab": {
   "collapsed_sections": [],
   "name": "Lab5.ipynb",
   "provenance": []
  },
  "kernelspec": {
   "display_name": "Python 3 (ipykernel)",
   "language": "python",
   "name": "python3"
  },
  "language_info": {
   "codemirror_mode": {
    "name": "ipython",
    "version": 3
   },
   "file_extension": ".py",
   "mimetype": "text/x-python",
   "name": "python",
   "nbconvert_exporter": "python",
   "pygments_lexer": "ipython3",
   "version": "3.9.7"
  }
 },
 "nbformat": 4,
 "nbformat_minor": 1
}

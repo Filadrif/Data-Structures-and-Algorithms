{
 "cells": [
  {
   "cell_type": "markdown",
   "metadata": {
    "id": "WPvB9TcMmKA6"
   },
   "source": [
    "# Лабораторная работа №5\n",
    "# Рекурсия. Фракталы."
   ]
  },
  {
   "cell_type": "markdown",
   "metadata": {
    "id": "96Gi_LEvmSVH"
   },
   "source": [
    "## Выполнил студент группы БВТ2005 Мокин Александр\n",
    "***"
   ]
  },
  {
   "cell_type": "markdown",
   "metadata": {
    "id": "4clYOyb0mbEv"
   },
   "source": [
    "### Задание:\n",
    "Реализовать генерацию заданного типа фрактала с применением рекурсивных функций.\n",
    "\n",
    "\n",
    "Добавить возможность задания глубины фрактала. \n",
    "\n",
    "\n",
    "Оценить глубину рекурсии. \n",
    "\n",
    "\n",
    "Построить таблицу зависимости времени построения от глубины фрактала."
   ]
  },
  {
   "cell_type": "markdown",
   "metadata": {
    "id": "wDXHbUmMmhRL"
   },
   "source": [
    "### Список фракталов:\n",
    "\n",
    "Кривая Коха\n",
    "| Кривая Гильберта\n",
    "| Кривая Серпинского\n",
    "| Салфетка Серпинского\n",
    "| __Ковер Серпинского__\n",
    "| Дерево Пифагора "
   ]
  },
  {
   "cell_type": "code",
   "execution_count": 2,
   "metadata": {},
   "outputs": [],
   "source": [
    "# Необходим при замере скорости выполнения кода\n",
    "from datetime import datetime as t"
   ]
  },
  {
   "cell_type": "markdown",
   "metadata": {
    "id": "Wggfn8l7nG72"
   },
   "source": [
    "### Выполнение:"
   ]
  },
  {
   "cell_type": "code",
   "execution_count": 30,
   "metadata": {
    "id": "681a95mZnOSa"
   },
   "outputs": [
    {
     "name": "stdout",
     "output_type": "stream",
     "text": [
      "Глубина  0 время ---      0.00 s --- глубина рекурсии 1\n",
      "Глубина  1 время ---   2285.43 s --- глубина рекурсии 8\n",
      "Глубина  2 время ---   4422.43 s --- глубина рекурсии 64\n",
      "Глубина  3 время ---   6553.00 s --- глубина рекурсии 512\n",
      "Глубина  4 время ---  14691.57 s --- глубина рекурсии 4096\n",
      "Глубина  5 время ---  45021.14 s --- глубина рекурсии 32768\n",
      "Глубина  6 время --- 270076.86 s --- глубина рекурсии 262144\n",
      "Глубина  7 время --- 432356.57 s --- глубина рекурсии 2097152\n"
     ]
    }
   ],
   "source": [
    "import pygame as pg\n",
    "from pygame.locals import *\n",
    "from sys import exit\n",
    "\n",
    "WIDTH = 2700\n",
    "HEIGHT = 2700\n",
    "SIDE_LEN = 2700\n",
    "F_COLOR = (25, 255, 255)\n",
    "\n",
    "deep_length = 0\n",
    "\n",
    "def serpiensky_carpet(screen, level,side = SIDE_LEN, pos_x = 0, pos_y = 0):\n",
    "    global deep_length\n",
    "    if level and side >= 1:\n",
    "        new_side = side // 3\n",
    "        square = (pos_x + new_side,pos_y + new_side, new_side, new_side)\n",
    "        pg.draw.rect(screen, F_COLOR, square)\n",
    "        for i in range(-1, 2):\n",
    "            for j in range(-1, 2):\n",
    "                if i != 0 or j != 0:\n",
    "                    serpiensky_carpet(screen,level - 1,new_side, pos_x + new_side + new_side * i, pos_y + new_side + new_side * j)\n",
    "    else:\n",
    "        deep_length += 1 \n",
    "\n",
    "\n",
    "def main(exe_time, level, deep_counter,is_testing = False):\n",
    "    pg.init()\n",
    "    pg.display.set_caption('Serpiensky carpet') \n",
    "    screen = pg.display.set_mode((WIDTH, HEIGHT))\n",
    "    \n",
    "    global deep_length\n",
    "    deep_length = 0\n",
    "    start = t.now()\n",
    "    serpiensky_carpet(screen, level, side= SIDE_LEN)\n",
    "    finish = t.now() - start\n",
    "    exe_time.append(finish)\n",
    "    deep_counter.append(deep_length)\n",
    "    if is_testing:\n",
    "        return\n",
    "    while True:\n",
    "        for event in pg.event.get():\n",
    "            if event.type == pg.QUIT:\n",
    "                pg.quit()\n",
    "                exit()  \n",
    "        if is_testing:\n",
    "            pg.quit()\n",
    "        pg.display.update()\n",
    "        \n",
    "\n",
    "limit = 7\n",
    "exe_time = []\n",
    "average_exe_time = []\n",
    "deep_counter = []\n",
    "for level in range(limit + 1):\n",
    "    for i in range(limit):\n",
    "        main(average_exe_time,level, deep_counter,True)\n",
    "    summ = 0\n",
    "    \n",
    "    for i in range(limit):\n",
    "        summ += int(average_exe_time[i].microseconds)\n",
    "    \n",
    "    exe_time.append(summ/limit)\n",
    "    average_exe_time = []\n",
    "    \n",
    "deep_counter = []\n",
    "for i in range(limit + 1):\n",
    "    main(average_exe_time,i, deep_counter,True)\n",
    "\n",
    "for i in range(limit + 1):\n",
    "    print(\"Глубина {1:2d} время --- {0:9.2f} s --- глубина рекурсии {2}\".format(exe_time[i], i,deep_counter[i]))\n",
    "\n"
   ]
  },
  {
   "cell_type": "markdown",
   "metadata": {
    "id": "diOb-K7LnO5a"
   },
   "source": [
    "### Вывод"
   ]
  },
  {
   "cell_type": "code",
   "execution_count": 18,
   "metadata": {},
   "outputs": [
    {
     "data": {
      "image/png": "[encoded data removed]",
      "text/plain": [
       "<Figure size 432x288 with 1 Axes>"
      ]
     },
     "metadata": {
      "needs_background": "light"
     },
     "output_type": "display_data"
    }
   ],
   "source": [
    "import matplotlib\n",
    "import matplotlib.pyplot as plt\n",
    "import numpy as np\n",
    "\n",
    "x = np.arange(0,len(exe_time),1)\n",
    "new_exe_time = []\n",
    "y = np.array(exe_time)\n",
    "\n",
    "plt.xlabel('levels')\n",
    "plt.ylabel('time')\n",
    "plt.plot(x,y)\n",
    "plt.show()"
   ]
  }
 ],
 "metadata": {
  "colab": {
   "collapsed_sections": [],
   "name": "Lab5.ipynb",
   "provenance": []
  },
  "kernelspec": {
   "display_name": "Python 3 (ipykernel)",
   "language": "python",
   "name": "python3"
  },
  "language_info": {
   "codemirror_mode": {
    "name": "ipython",
    "version": 3
   },
   "file_extension": ".py",
   "mimetype": "text/x-python",
   "name": "python",
   "nbconvert_exporter": "python",
   "pygments_lexer": "ipython3",
   "version": "3.9.7"
  }
 },
 "nbformat": 4,
 "nbformat_minor": 1
}

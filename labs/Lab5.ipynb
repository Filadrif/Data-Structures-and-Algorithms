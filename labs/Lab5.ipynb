{
 "cells": [
  {
   "cell_type": "markdown",
   "metadata": {
    "id": "WPvB9TcMmKA6"
   },
   "source": [
    "# Лабораторная работа №5\n",
    "# Рекурсия. Фракталы."
   ]
  },
  {
   "cell_type": "markdown",
   "metadata": {
    "id": "96Gi_LEvmSVH"
   },
   "source": [
    "## Выполнил студент группы БВТ2005 Мокин Александр\n",
    "***"
   ]
  },
  {
   "cell_type": "markdown",
   "metadata": {
    "id": "4clYOyb0mbEv"
   },
   "source": [
    "### Задание:\n",
    "Реализовать генерацию заданного типа фрактала с применением рекурсивных функций.\n",
    "\n",
    "\n",
    "Добавить возможность задания глубины фрактала. \n",
    "\n",
    "\n",
    "Оценить глубину рекурсии. \n",
    "\n",
    "\n",
    "Построить таблицу зависимости времени построения от глубины фрактала."
   ]
  },
  {
   "cell_type": "markdown",
   "metadata": {
    "id": "wDXHbUmMmhRL"
   },
   "source": [
    "### Список фракталов:\n",
    "\n",
    "Кривая Коха\n",
    "| Кривая Гильберта\n",
    "| Кривая Серпинского\n",
    "| Салфетка Серпинского\n",
    "| Ковер Серпинского\n",
    "| Дерево Пифагора "
   ]
  },
  {
   "cell_type": "code",
   "execution_count": 6,
   "metadata": {},
   "outputs": [],
   "source": [
    "import time\n",
    "from datetime import datetime as t\n",
    "import turtle\n",
    "import pygame as pg\n",
    "from pygame.locals import *\n",
    "from sys import exit"
   ]
  },
  {
   "cell_type": "markdown",
   "metadata": {},
   "source": [
    "### L-система"
   ]
  },
  {
   "cell_type": "code",
   "execution_count": 7,
   "metadata": {},
   "outputs": [],
   "source": [
    "def create_l_system(iters, axiom, rules):\n",
    "    start_string = axiom\n",
    "    if iters == 0:\n",
    "        return axiom\n",
    "    end_string = \"\"\n",
    "    for _ in range(iters):\n",
    "        end_string = \"\".join(rules[i] if i in rules else i for i in start_string)\n",
    "        start_string = end_string\n",
    "\n",
    "    return end_string\n",
    "\n",
    "\n",
    "def draw_l_system(t, instructions, angle, distance):\n",
    "    for cmd in instructions:\n",
    "        if cmd == 'F':\n",
    "            t.forward(distance)\n",
    "        elif cmd == '+':\n",
    "            t.right(angle)\n",
    "        elif cmd == '-':\n",
    "            t.left(angle)\n",
    "\n",
    "\n",
    "def l_main(t, wn,iterations, axiom, rules, angle, exe_time,length=8, size=2, y_offset=0,\n",
    "        x_offset=0, offset_angle=0, width=600, height=600, is_testing = False):\n",
    "\n",
    "    inst = create_l_system(iterations, axiom, rules)\n",
    "    t.reset()\n",
    "    t.up()\n",
    "    t.backward(-x_offset)\n",
    "    t.left(90)\n",
    "    t.backward(-y_offset)\n",
    "    t.left(offset_angle)\n",
    "    t.down()\n",
    "    t.speed(10000)\n",
    "    t.pensize(size)\n",
    "    start = time.time()\n",
    "    draw_l_system(t, inst, angle, length)\n",
    "    finish = round((time.time() - start)*1000)\n",
    "    exe_time.append(finish)\n",
    "    t.hideturtle()\n",
    "    if not is_testing:\n",
    "        wn.exitonclick()"
   ]
  },
  {
   "cell_type": "markdown",
   "metadata": {
    "id": "Wggfn8l7nG72"
   },
   "source": [
    "### Ковер Серпинского"
   ]
  },
  {
   "cell_type": "code",
   "execution_count": 23,
   "metadata": {
    "id": "681a95mZnOSa"
   },
   "outputs": [
    {
     "name": "stdout",
     "output_type": "stream",
     "text": [
      "Глубина  1 время ---       0 ms --- глубина рекурсии 8\n",
      "Глубина  2 время ---       0 ms --- глубина рекурсии 64\n",
      "Глубина  3 время ---       1 ms --- глубина рекурсии 512\n",
      "Глубина  4 время ---       3 ms --- глубина рекурсии 4096\n",
      "Глубина  5 время ---      22 ms --- глубина рекурсии 32768\n"
     ]
    }
   ],
   "source": [
    "WIDTH = 600\n",
    "HEIGHT = 600\n",
    "SIDE_LEN = 600\n",
    "F_COLOR = (25, 255, 255)\n",
    "\n",
    "deep_length = 0\n",
    "\n",
    "def serpiensky_carpet(screen, level,side = SIDE_LEN, pos_x = 0, pos_y = 0):\n",
    "    global deep_length\n",
    "    if level and side >= 1:\n",
    "        new_side = side // 3\n",
    "        square = (pos_x + new_side,pos_y + new_side, new_side, new_side)\n",
    "        pg.draw.rect(screen, F_COLOR, square)\n",
    "        for i in range(-1, 2):\n",
    "            for j in range(-1, 2):\n",
    "                if i != 0 or j != 0:\n",
    "                    serpiensky_carpet(screen,level - 1,new_side, pos_x + new_side + new_side * i, pos_y + new_side + new_side * j)\n",
    "    else:\n",
    "        deep_length += 1 \n",
    "\n",
    "\n",
    "def draw_serpiensky_carpet(exe_time, level, deep_counter,is_testing = False):\n",
    "    pg.init()\n",
    "    pg.display.set_caption('Serpiensky carpet') \n",
    "    screen = pg.display.set_mode((WIDTH, HEIGHT))\n",
    "    screen.fill((0,0,0))\n",
    "    global deep_length\n",
    "    deep_length = 0\n",
    "    start = time.time()\n",
    "    serpiensky_carpet(screen, level, side= SIDE_LEN)\n",
    "    finish = round((time.time() - start)*1000)\n",
    "    exe_time.append(finish)\n",
    "    deep_counter.append(deep_length)\n",
    "    while True:\n",
    "        for event in pg.event.get():\n",
    "            if event.type == pg.QUIT:\n",
    "                pg.quit()\n",
    "                exit()  \n",
    "        pg.display.update()\n",
    "        if is_testing:\n",
    "            return\n",
    "        \n",
    "\n",
    "limit = 5\n",
    "serp_carpet_time = []\n",
    "serp_carpet_deep = []\n",
    "for level in range(limit):\n",
    "    draw_serpiensky_carpet(serp_carpet_time,level + 1, serp_carpet_deep,True)\n",
    "\n",
    "for i in range(limit):\n",
    "    print(\"Глубина {1:2d} время --- {0:7d} ms --- глубина рекурсии {2}\".format(serp_carpet_time[i], i + 1, serp_carpet_deep[i]))"
   ]
  },
  {
   "cell_type": "markdown",
   "metadata": {},
   "source": [
    "### Кривая Коха"
   ]
  },
  {
   "cell_type": "code",
   "execution_count": 16,
   "metadata": {},
   "outputs": [
    {
     "name": "stdout",
     "output_type": "stream",
     "text": [
      "Глубина  1 время ---      78 ms --- глубина рекурсии 1\n",
      "Глубина  2 время ---     347 ms --- глубина рекурсии 4\n",
      "Глубина  3 время ---    1410 ms --- глубина рекурсии 16\n",
      "Глубина  4 время ---    5604 ms --- глубина рекурсии 64\n",
      "Глубина  5 время ---    5624 ms --- глубина рекурсии 64\n"
     ]
    }
   ],
   "source": [
    "koch_deepth = 0\n",
    "def draw_koch_segment(t, length, level):\n",
    "    global koch_deepth\n",
    "    if length > 6 and level:\n",
    "        ln3 = length // 3\n",
    "        draw_koch_segment(t, ln3, level - 1)\n",
    "        t.left(60)\n",
    "        draw_koch_segment(t, ln3, level - 1)\n",
    "        t.right(120)\n",
    "        draw_koch_segment(t, ln3, level - 1)\n",
    "        t.left(60)\n",
    "        draw_koch_segment(t, ln3, level - 1)\n",
    "    else:\n",
    "        t.fd(length)\n",
    "        t.left(60)\n",
    "        t.fd(length)\n",
    "        t.right(120)\n",
    "        t.fd(length)\n",
    "        t.left(60)\n",
    "        t.fd(length)\n",
    "        koch_deepth += 1\n",
    "        level -= 1\n",
    "\n",
    "        \n",
    "\n",
    "def koch(turt,level, koch_time, koch_deep,is_testing = False):\n",
    "    turt.reset()\n",
    "    global koch_deepth\n",
    "    koch_deepth = 0\n",
    "    length = 120\n",
    "    turt.speed(500)\n",
    "    start = time.time()\n",
    "    draw_koch_segment(turt, length,level)\n",
    "    finish = round((time.time() - start)*1000)\n",
    "    koch_time.append(finish)\n",
    "    koch_deep.append(koch_deepth)\n",
    "    if not is_testing:\n",
    "        turtle.done()\n",
    "\n",
    "\n",
    "limit = 5       \n",
    "koch_time = []\n",
    "koch_deep = []\n",
    "try:\n",
    "    turt = turtle.Turtle()\n",
    "    turt.clear()\n",
    "    for level in range(limit):\n",
    "        koch(turt,level, koch_time, koch_deep, True)\n",
    "    for i in range(limit):\n",
    "        print(\"Глубина {1:2d} время --- {0:7d} ms --- глубина рекурсии {2}\".format(koch_time[i], i + 1, koch_deep[i]))\n",
    "    turt.clear()\n",
    "except:\n",
    "    print('Try again')"
   ]
  },
  {
   "cell_type": "markdown",
   "metadata": {},
   "source": [
    "### Кривая Гильберта"
   ]
  },
  {
   "cell_type": "code",
   "execution_count": 17,
   "metadata": {},
   "outputs": [
    {
     "name": "stdout",
     "output_type": "stream",
     "text": [
      "Глубина  1 время ---       0 ms --- \n",
      "Глубина  2 время ---      77 ms --- \n",
      "Глубина  3 время ---     390 ms --- \n",
      "Глубина  4 время ---    1634 ms --- \n",
      "Глубина  5 время ---    6554 ms --- \n"
     ]
    }
   ],
   "source": [
    "axiom = \"L\"\n",
    "rules = {\"L\":\"+RF-LFL-FR+\", \"R\":\"-LF+RFR+FL-\"}\n",
    "limit = 5\n",
    "angle = 90\n",
    "try:\n",
    "    t = turtle.Turtle()\n",
    "    wn = turtle.Screen()\n",
    "    wn.setup(600, 600)\n",
    "    gilbert_time = []\n",
    "    t.clear()\n",
    "    for i in range(limit):\n",
    "        l_main(t, wn, i, axiom, rules, angle, gilbert_time, is_testing = True)\n",
    "    for i in range(limit):\n",
    "            print(\"Глубина {1:2d} время --- {0:7d} ms --- \".format(gilbert_time[i], i + 1))\n",
    "    t.clear()\n",
    "except:\n",
    "    print('try again')"
   ]
  },
  {
   "cell_type": "markdown",
   "metadata": {},
   "source": [
    "### Кривая Серпинского"
   ]
  },
  {
   "cell_type": "code",
   "execution_count": 20,
   "metadata": {},
   "outputs": [
    {
     "name": "stdout",
     "output_type": "stream",
     "text": [
      "Глубина  1 время ---      80 ms --- \n",
      "Глубина  2 время ---     441 ms --- \n",
      "Глубина  3 время ---    1853 ms --- \n",
      "Глубина  4 время ---    7513 ms --- \n",
      "Глубина  5 время ---   29885 ms --- \n"
     ]
    }
   ],
   "source": [
    "axiom = \"F+XF+F+XF\"\n",
    "rules = {\"X\":\"XF-F+F-XF+F+XF-F+F-X\"}\n",
    "limit = 5 \n",
    "angle = 90\n",
    "try:\n",
    "    t = turtle.Turtle()\n",
    "    wn = turtle.Screen()\n",
    "    wn.setup(600, 600)\n",
    "    serp_line_time = []\n",
    "    t.clear()\n",
    "    for i in range(limit):\n",
    "        l_main(t, wn, i, axiom, rules, angle, serp_line_time, is_testing = True)\n",
    "    for i in range(limit):\n",
    "            print(\"Глубина {1:2d} время --- {0:7d} ms --- \".format(serp_line_time[i], i + 1))\n",
    "    t.clear()\n",
    "except:\n",
    "    print('try again')"
   ]
  },
  {
   "cell_type": "markdown",
   "metadata": {},
   "source": [
    "### Салфетка Серпинского"
   ]
  },
  {
   "cell_type": "code",
   "execution_count": 19,
   "metadata": {},
   "outputs": [
    {
     "name": "stdout",
     "output_type": "stream",
     "text": [
      "Глубина  1 время ---     110 ms --- \n",
      "Глубина  2 время ---     333 ms --- \n",
      "Глубина  3 время ---    1019 ms --- \n",
      "Глубина  4 время ---    3036 ms --- \n",
      "Глубина  5 время ---    9021 ms --- \n"
     ]
    }
   ],
   "source": [
    "axiom = \"FXF--FF--FF\"\n",
    "rules = {\"F\":\"FF\", \"X\":\"--FXF++FXF++FXF--\"}\n",
    "limit = 5 \n",
    "angle = 60\n",
    "try:\n",
    "    t = turtle.Turtle()\n",
    "    wn = turtle.Screen()\n",
    "    wn.setup(600, 600)\n",
    "    serp_napkin_time = []\n",
    "    t.clear()\n",
    "    for i in range(limit):\n",
    "        l_main(t, wn, i, axiom, rules, angle, serp_napkin_time, is_testing = True)\n",
    "    for i in range(limit):\n",
    "            print(\"Глубина {1:2d} время --- {0:7d} ms --- \".format(serp_napkin_time[i], i + 1))\n",
    "    \n",
    "except:\n",
    "    print(\"try again\")"
   ]
  },
  {
   "cell_type": "markdown",
   "metadata": {},
   "source": [
    "### Дерево Пифагора"
   ]
  },
  {
   "cell_type": "code",
   "execution_count": 21,
   "metadata": {},
   "outputs": [
    {
     "name": "stdout",
     "output_type": "stream",
     "text": [
      "Глубина  1 время ---      11 ms --- \n",
      "Глубина  2 время ---     101 ms --- \n",
      "Глубина  3 время ---     292 ms --- \n",
      "Глубина  4 время ---     703 ms --- \n",
      "Глубина  5 время ---    1567 ms --- \n"
     ]
    }
   ],
   "source": [
    "axiom = \"F\"\n",
    "rules = {\"X\":\"XX\", \"F\":\"X[F]F\", \"[\":\"[\", \"]\": \"]\"}\n",
    "limit = 5\n",
    "\n",
    "def create_l_tree(axiom, rules, level):\n",
    "    if level == 0:\n",
    "        return axiom\n",
    "    else:\n",
    "        result = \"\"\n",
    "        for i in range(len(axiom)):\n",
    "            result += rules[axiom[i]]\n",
    "        return create_l_tree(result, rules, level - 1)\n",
    "\n",
    "def draw_l_tree(t, inst, side = 20, angle = 45):\n",
    "    order = []\n",
    "    for symbol in inst:\n",
    "        if symbol == \"[\":\n",
    "            order.append(t.pos())\n",
    "            order.append(t.heading())\n",
    "            t.lt(angle)\n",
    "        elif symbol == \"]\":\n",
    "            t.up()\n",
    "            t.setheading(order.pop())\n",
    "            t.setpos(order.pop())\n",
    "            t.down()\n",
    "            t.rt(angle)\n",
    "        else:\n",
    "            t.fd(side)\n",
    "            \n",
    "def pifagor_tree(t, wn, level, axiom, rules, exe_time,angle=45, size=2, y_offset=0,\n",
    "        x_offset=0, offset_angle=0, width=600, height=600, is_testing = False):\n",
    "    inst = create_l_tree(axiom, rules,level)\n",
    "    t.reset()\n",
    "    t.up()\n",
    "    t.backward(-x_offset)\n",
    "    t.left(90)\n",
    "    t.backward(-y_offset)\n",
    "    t.left(offset_angle)\n",
    "    t.down()\n",
    "    t.speed(10000)\n",
    "    t.pensize(size)\n",
    "    start = time.time()\n",
    "    draw_l_tree(t, inst)\n",
    "    finish = round((time.time() - start)*1000)\n",
    "    exe_time.append(finish)\n",
    "    t.hideturtle()\n",
    "    if not is_testing:\n",
    "        wn.exitonclick()\n",
    "\n",
    "try:\n",
    "    t = turtle.Turtle()\n",
    "    wn = turtle.Screen()\n",
    "    wn.setup(600, 600)\n",
    "    pifagor_time = []\n",
    "    t.reset()\n",
    "    for i in range(limit):\n",
    "        pifagor_tree(t, wn, i, axiom, rules, pifagor_time, is_testing = True)\n",
    "    for i in range(limit):\n",
    "            print(\"Глубина {1:2d} время --- {0:7d} ms --- \".format(pifagor_time[i], i + 1))\n",
    "    t.reset()\n",
    "except:\n",
    "    print(\"try again\")\n",
    "\n",
    "    "
   ]
  },
  {
   "cell_type": "markdown",
   "metadata": {
    "id": "diOb-K7LnO5a"
   },
   "source": [
    "### Вывод"
   ]
  },
  {
   "cell_type": "code",
   "execution_count": 24,
   "metadata": {},
   "outputs": [
    {
     "name": "stdout",
     "output_type": "stream",
     "text": [
      "Глубина                      время, ms    \n",
      " 0  -     0 -  -    78 -  -     0 -  -    80 -  -   110 -  -    11 -  \n",
      " 1  -     0 -  -   347 -  -    77 -  -   441 -  -   333 -  -   101 -  \n",
      " 2  -     1 -  -  1410 -  -   390 -  -  1853 -  -  1019 -  -   292 -  \n",
      " 3  -     3 -  -  5604 -  -  1634 -  -  7513 -  -  3036 -  -   703 -  \n",
      " 4  -    22 -  -  5624 -  -  6554 -  - 29885 -  -  9021 -  -  1567 -  \n"
     ]
    }
   ],
   "source": [
    "result = []\n",
    "result.append(serp_carpet_time)\n",
    "result.append(koch_time)\n",
    "result.append(gilbert_time)\n",
    "result.append(serp_line_time)\n",
    "result.append(serp_napkin_time)\n",
    "result.append(pifagor_time)\n",
    "\n",
    "print(\"Глубина                      время, ms    \".format(pifagor_time[i], i + 1))\n",
    "length = len(result[0])\n",
    "for i in result:\n",
    "    if len(i) < length:\n",
    "        length = len(i)\n",
    "    \n",
    "for i in range(length):\n",
    "    print('{0:2d}'.format(i), end = '  ')\n",
    "    for j in range(len(result)):\n",
    "        print(\"- {0:5d} - \".format(result[j][i]), end = ' ')\n",
    "    print('')\n",
    "    "
   ]
  },
  {
   "cell_type": "code",
   "execution_count": null,
   "metadata": {},
   "outputs": [],
   "source": []
  }
 ],
 "metadata": {
  "colab": {
   "collapsed_sections": [],
   "name": "Lab5.ipynb",
   "provenance": []
  },
  "kernelspec": {
   "display_name": "Python 3 (ipykernel)",
   "language": "python",
   "name": "python3"
  },
  "language_info": {
   "codemirror_mode": {
    "name": "ipython",
    "version": 3
   },
   "file_extension": ".py",
   "mimetype": "text/x-python",
   "name": "python",
   "nbconvert_exporter": "python",
   "pygments_lexer": "ipython3",
   "version": "3.9.7"
  }
 },
 "nbformat": 4,
 "nbformat_minor": 1
}

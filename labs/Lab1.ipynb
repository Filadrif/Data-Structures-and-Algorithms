{
 "cells": [
  {
   "cell_type": "markdown",
   "id": "fifteen-sailing",
   "metadata": {},
   "source": [
    "# Лабораторная работа №1\n",
    "## Выполнил студент группы БВТ2005 Мокин Александр"
   ]
  },
  {
   "cell_type": "markdown",
   "id": "particular-syndicate",
   "metadata": {},
   "source": [
    "### Оглавление\n",
    "1. [Задание 1](#Задание-№1)\n",
    "2. [Задание 2](#Задание-№2)\n",
    "3. [Задание 3](#Задание-№3)\n",
    "4. [Вывод](#Вывод)"
   ]
  },
  {
   "cell_type": "markdown",
   "id": "arctic-stocks",
   "metadata": {},
   "source": [
    "### Задание №1\n",
    "<i> Вызвать функцию print() и передать туда строку Hello, World! </i>"
   ]
  },
  {
   "cell_type": "code",
   "execution_count": 14,
   "id": "caring-truck",
   "metadata": {
    "scrolled": true
   },
   "outputs": [
    {
     "name": "stdout",
     "output_type": "stream",
     "text": [
      "Hello, World!\n"
     ]
    }
   ],
   "source": [
    "print('Hello, World!')"
   ]
  },
  {
   "cell_type": "markdown",
   "id": "maritime-conversation",
   "metadata": {},
   "source": [
    "### Задание №2\n",
    "Написать генератор случайных матриц(многомерных), который принимает\n",
    "опциональные параметры <b>m</b>, <b>n</b>, <b>min_limit</b>, <b>max_limit</b>, где <b>m</b> и <b>n</b> указывают размер\n",
    "матрицы, а <b>min_lim</b> и <b>max_lim</b> - минимальное и максимальное значение для\n",
    "генерируемого числа."
   ]
  },
  {
   "cell_type": "code",
   "execution_count": 15,
   "id": "built-contact",
   "metadata": {},
   "outputs": [],
   "source": [
    "import random\n",
    "import time"
   ]
  },
  {
   "cell_type": "code",
   "execution_count": 16,
   "id": "alert-charm",
   "metadata": {},
   "outputs": [
    {
     "name": "stdout",
     "output_type": "stream",
     "text": [
      "100\n",
      "100\n",
      "0\n",
      "100\n"
     ]
    }
   ],
   "source": [
    "user_m = int(input())\n",
    "user_n = int(input())\n",
    "user_min_limit = int(input())\n",
    "user_max_limit = int(input())\n",
    "user_m, user_n, user_min_limit, user_max_limit\n",
    "\n",
    "def random_matrix(m = 6, n = 6, min_limit = 0, max_limit = 10):\n",
    "    matrix = []\n",
    "    for i in range(m):\n",
    "        line = []\n",
    "        for j in range(n):\n",
    "            line.append(random.randint(min_limit, max_limit))\n",
    "        matrix.append(line)\n",
    "    return matrix\n",
    "matrix = random_matrix(user_m, user_n, user_min_limit, user_max_limit)\n",
    "runtime_info = []"
   ]
  },
  {
   "cell_type": "markdown",
   "id": "catholic-roots",
   "metadata": {},
   "source": [
    "### Задание №3\n",
    "Реализовать методы сортировки строк числовой матрицы в соответствии с\n",
    "заданием. Оценить время работы каждого алгоритма сортировки и сравнить его со\n",
    "временем стандартной функции сортировки. Испытания проводить на сгенерированных\n",
    "матрицах."
   ]
  },
  {
   "cell_type": "code",
   "execution_count": 17,
   "id": "opposed-creature",
   "metadata": {},
   "outputs": [],
   "source": [
    "import copy"
   ]
  },
  {
   "cell_type": "code",
   "execution_count": 18,
   "id": "cleared-anniversary",
   "metadata": {},
   "outputs": [
    {
     "name": "stdout",
     "output_type": "stream",
     "text": [
      "--- 63 ms ---\n"
     ]
    }
   ],
   "source": [
    "# Сортировка выбором.\n",
    "# Берётся срез массива, в котором минимальный элемент переносят в самый левый угол,\n",
    "# после чего срез уменьшается и цикл повторяется.\n",
    "def choise_sort(x):\n",
    "    for i in range(len(x)):\n",
    "        id_min = i\n",
    "        for j in range(i+1, len(x)):\n",
    "            if x[j] < x[id_min]:\n",
    "                id_min = j\n",
    "        x[i], x[id_min] = x[id_min], x[i]\n",
    "        \n",
    "        \n",
    "my_array = copy.deepcopy(matrix)\n",
    "start_time = time.time()\n",
    "\n",
    "for i in range(len(my_array)):\n",
    "    choise_sort(my_array[i])\n",
    "    \n",
    "choise_time = round((time.time() - start_time)*1000)\n",
    "print(\"--- {0} ms ---\".format(choise_time))"
   ]
  },
  {
   "cell_type": "code",
   "execution_count": 19,
   "id": "roman-silly",
   "metadata": {},
   "outputs": [
    {
     "name": "stdout",
     "output_type": "stream",
     "text": [
      "--- 157 ms ---\n"
     ]
    }
   ],
   "source": [
    "# Сортировка вставкой.\n",
    "def insertion_sort(x):\n",
    "    for i in range(len(x)):\n",
    "        current = x[i]\n",
    "        j = i\n",
    "        while x[j-1] > current and j > 0:\n",
    "            x[j] = x[j-1]\n",
    "            j = j - 1\n",
    "        x[j] = current\n",
    "        \n",
    "        \n",
    "my_array = copy.deepcopy(matrix)\n",
    "start_time = time.time()\n",
    "\n",
    "for i in range(len(my_array)):\n",
    "    insertion_sort(my_array[i])\n",
    "\n",
    "insertion_time = round((time.time() - start_time)*1000)\n",
    "print(\"--- {0} ms ---\".format(insertion_time))"
   ]
  },
  {
   "cell_type": "code",
   "execution_count": 20,
   "id": "vital-implementation",
   "metadata": {
    "scrolled": true
   },
   "outputs": [
    {
     "name": "stdout",
     "output_type": "stream",
     "text": [
      "--- 270 ms ---\n"
     ]
    }
   ],
   "source": [
    "# Сортировка обменом. || Сортировка пузырьком\n",
    "def bubble_sort(x):\n",
    "    for i in range(len(x)):\n",
    "        for j in range(len(x) - i - 1):\n",
    "            if x[j] > x[j + 1]:\n",
    "                x[j], x[j + 1] = x[j + 1], x[j]\n",
    "                \n",
    "                \n",
    "my_array = copy.deepcopy(matrix)\n",
    "start_time = time.time()\n",
    "\n",
    "for i in range(len(my_array)):\n",
    "    bubble_sort(my_array[i])\n",
    "    \n",
    "bubble_time = round((time.time() - start_time)*1000)\n",
    "print(\"--- {0} ms ---\".format(bubble_time))"
   ]
  },
  {
   "cell_type": "code",
   "execution_count": 21,
   "id": "veterinary-glory",
   "metadata": {},
   "outputs": [
    {
     "name": "stdout",
     "output_type": "stream",
     "text": [
      "--- 53 ms ---\n"
     ]
    }
   ],
   "source": [
    "# Сортировка Шелла.\n",
    "def shell_sort(x):\n",
    "    r = len(x) // 2\n",
    "    while r:\n",
    "        for i, el in enumerate(x):\n",
    "            while i >= r and x[i-r] > el:\n",
    "                x[i] = x[i-r]\n",
    "                i -= r\n",
    "            x[i] = el\n",
    "        if r != 1:\n",
    "            r //= 2\n",
    "        else:\n",
    "            r = 0\n",
    "            \n",
    "\n",
    "my_array = copy.deepcopy(matrix)\n",
    "start_time = time.time()\n",
    "\n",
    "for i in range(len(my_array)):\n",
    "    shell_sort(my_array[i])\n",
    "    \n",
    "shell_time = round((time.time() - start_time)*1000)\n",
    "print(\"--- {0} ms ---\".format(shell_time))"
   ]
  },
  {
   "cell_type": "code",
   "execution_count": 22,
   "id": "correct-chaos",
   "metadata": {},
   "outputs": [
    {
     "ename": "NameError",
     "evalue": "name 'qiuck_time' is not defined",
     "output_type": "error",
     "traceback": [
      "\u001b[1;31m---------------------------------------------------------------------------\u001b[0m",
      "\u001b[1;31mNameError\u001b[0m                                 Traceback (most recent call last)",
      "\u001b[1;32m~\\AppData\\Local\\Temp/ipykernel_20820/1180495100.py\u001b[0m in \u001b[0;36m<module>\u001b[1;34m\u001b[0m\n\u001b[0;32m     25\u001b[0m \u001b[1;33m\u001b[0m\u001b[0m\n\u001b[0;32m     26\u001b[0m \u001b[0mquick_time\u001b[0m \u001b[1;33m=\u001b[0m \u001b[0mround\u001b[0m\u001b[1;33m(\u001b[0m\u001b[1;33m(\u001b[0m\u001b[0mtime\u001b[0m\u001b[1;33m.\u001b[0m\u001b[0mtime\u001b[0m\u001b[1;33m(\u001b[0m\u001b[1;33m)\u001b[0m \u001b[1;33m-\u001b[0m \u001b[0mstart_time\u001b[0m\u001b[1;33m)\u001b[0m\u001b[1;33m*\u001b[0m\u001b[1;36m1000\u001b[0m\u001b[1;33m)\u001b[0m\u001b[1;33m\u001b[0m\u001b[1;33m\u001b[0m\u001b[0m\n\u001b[1;32m---> 27\u001b[1;33m \u001b[0mprint\u001b[0m\u001b[1;33m(\u001b[0m\u001b[1;34m\"--- {0} ms ---\"\u001b[0m\u001b[1;33m.\u001b[0m\u001b[0mformat\u001b[0m\u001b[1;33m(\u001b[0m\u001b[0mqiuck_time\u001b[0m\u001b[1;33m)\u001b[0m\u001b[1;33m)\u001b[0m\u001b[1;33m\u001b[0m\u001b[1;33m\u001b[0m\u001b[0m\n\u001b[0m",
      "\u001b[1;31mNameError\u001b[0m: name 'qiuck_time' is not defined"
     ]
    }
   ],
   "source": [
    "# Быстрая сортировка.\n",
    "def quick_sort(x):\n",
    "    if len(x) <= 1:\n",
    "        return x\n",
    "    else:\n",
    "        q = x[0]\n",
    "        s_nums = []\n",
    "        m_nums = []\n",
    "        e_nums = []\n",
    "        for n in x:\n",
    "            if n < q:\n",
    "                s_nums.append(n)\n",
    "            elif n > q:\n",
    "                m_nums.append(n)\n",
    "            else:\n",
    "                e_nums.append(n)\n",
    "        return quick_sort(s_nums) + quick_sort(m_nums)\n",
    "    \n",
    "\n",
    "my_array = copy.deepcopy(matrix)\n",
    "start_time = time.time()\n",
    "\n",
    "for i in range(len(my_array)):\n",
    "    quick_sort(my_array[i])\n",
    "    \n",
    "quick_time = round((time.time() - start_time)*1000)\n",
    "print(\"--- {0} ms ---\".format(qiuck_time))"
   ]
  },
  {
   "cell_type": "code",
   "execution_count": 23,
   "id": "french-czech",
   "metadata": {},
   "outputs": [
    {
     "name": "stdout",
     "output_type": "stream",
     "text": [
      "--- 129 ms ---\n"
     ]
    }
   ],
   "source": [
    "# Турнирная сортировка.\n",
    "import heapq\n",
    "\n",
    "def tournament_sort(x):\n",
    "    heap = []\n",
    "    heap_size = int(len(x)//11)\n",
    "    if heap_size > 63:\n",
    "        heap_size = 63\n",
    "    elif heap_size < 7:\n",
    "        heap_size = 7\n",
    "        \n",
    "    if len(x) >= heap_size: \n",
    "        heap = x[:heap_size]\n",
    "    else:\n",
    "        heap = x[:]\n",
    "        \n",
    "    heapq.heapify(heap)\n",
    "    winners = [float('-inf')]\n",
    "    losers = []\n",
    "    \n",
    "    i = heap_size\n",
    "    while i < len(x) or len(heap) > 0:\n",
    "        heap_top = heapq.heappop(heap)\n",
    "        if heap_top >= winners[-1]:\n",
    "            winners.append(heap_top)\n",
    "        else:\n",
    "            losers.append(heap_top)\n",
    "            \n",
    "        if i < len(x):\n",
    "            heapq.heappush(heap, x[i])\n",
    "            \n",
    "        i += 1\n",
    "        \n",
    "    del winners[0]\n",
    "    x = losers + winners\n",
    "    \n",
    "    if len(losers) > 0:\n",
    "        return tournament_sort(x)\n",
    "    \n",
    "    return x\n",
    "    \n",
    "    \n",
    "my_array = copy.deepcopy(matrix)\n",
    "start_time = time.time()\n",
    "\n",
    "for i in range(len(my_array)):\n",
    "    my_array[i] = tournament_sort(my_array[i])\n",
    "    \n",
    "tournament_time = round((time.time() - start_time)*1000)\n",
    "print(\"--- {0} ms ---\".format(tournament_time))"
   ]
  },
  {
   "cell_type": "markdown",
   "id": "rental-jerusalem",
   "metadata": {},
   "source": [
    "### Вывод\n"
   ]
  },
  {
   "cell_type": "code",
   "execution_count": 24,
   "id": "19e7f6a9",
   "metadata": {},
   "outputs": [
    {
     "name": "stdout",
     "output_type": "stream",
     "text": [
      "--- 3 ms ---\n"
     ]
    }
   ],
   "source": [
    "# работа встроенной функции сортировки\n",
    "my_array = copy.deepcopy(matrix)\n",
    "start_time = time.time()\n",
    "for i in range(len(my_array)):\n",
    "    my_array[i].sort()\n",
    "builtin_time = round((time.time() - start_time)*1000)\n",
    "print(\"--- {0} ms ---\".format(builtin_time))"
   ]
  },
  {
   "cell_type": "code",
   "execution_count": 26,
   "id": "a5d3f426",
   "metadata": {},
   "outputs": [
    {
     "name": "stdout",
     "output_type": "stream",
     "text": [
      "Сортировка выбором    --- 63 ms ---\n",
      "Сортировка вставками  --- 157 ms ---\n",
      "Сортировка пузырьком  --- 270 ms ---\n",
      "Сортировка Шелла      --- 53 ms ---\n",
      "Быстрая сортировка    --- 33 ms ---\n",
      "Турнирная сортировка  --- 129 ms ---\n",
      "Встроенная сортировка --- 3 ms ---\n"
     ]
    }
   ],
   "source": [
    "print(\"Сортировка выбором    --- {0} ms ---\".format(choise_time))\n",
    "print(\"Сортировка вставками  --- {0} ms ---\".format(insertion_time))\n",
    "print(\"Сортировка пузырьком  --- {0} ms ---\".format(bubble_time))\n",
    "print(\"Сортировка Шелла      --- {0} ms ---\".format(shell_time))\n",
    "print(\"Быстрая сортировка    --- {0} ms ---\".format(quick_time))\n",
    "print(\"Турнирная сортировка  --- {0} ms ---\".format(tournament_time))\n",
    "print(\"Встроенная сортировка --- {0} ms ---\".format(builtin_time))"
   ]
  }
 ],
 "metadata": {
  "kernelspec": {
   "display_name": "Python 3 (ipykernel)",
   "language": "python",
   "name": "python3"
  },
  "language_info": {
   "codemirror_mode": {
    "name": "ipython",
    "version": 3
   },
   "file_extension": ".py",
   "mimetype": "text/x-python",
   "name": "python",
   "nbconvert_exporter": "python",
   "pygments_lexer": "ipython3",
   "version": "3.9.7"
  }
 },
 "nbformat": 4,
 "nbformat_minor": 5
}

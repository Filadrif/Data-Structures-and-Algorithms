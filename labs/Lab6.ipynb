{
 "cells": [
  {
   "cell_type": "markdown",
   "metadata": {
    "id": "0z3KlfKDn4_K"
   },
   "source": [
    "# Лабораторная работа 6. \n",
    "# Сетевые алгоритмы. Динамические алгоритмы поиска путей.\n"
   ]
  },
  {
   "cell_type": "markdown",
   "metadata": {
    "id": "96Gi_LEvmSVH"
   },
   "source": [
    "## Выполнил студент группы БВТ2005 Мокин Александр\n",
    "***"
   ]
  },
  {
   "cell_type": "markdown",
   "metadata": {
    "id": "GjdIp8aToKIe"
   },
   "source": [
    "### Задание\n",
    "\n",
    "1.  Реализовать алгоритм поиска кратчайшего расстояния между двумя вершинами ориентированного взвешенного графа в соответствии с вариантом. \n",
    "\n",
    "2.  Предусмотреть задание графа в виде матрицы смежности/инцидентности, читаемой из файла, либо графически с помощью пользовательского интерфейса. \n",
    "\n",
    "3.  Разработать графический интерфейс пользователя с визуализацией графа и отображением кратчайшего расстояния между задаваемыми пользователем вершинами.\n",
    "\n",
    "4. По результатам работы проанализировать временную сложность работы заданного алгоритма в зависимости от числа узлов и ребер графа.\n",
    "Данные представить в виде таблицы.\n",
    "\n"
   ]
  },
  {
   "cell_type": "markdown",
   "metadata": {
    "id": "LhhUXrAmotIA"
   },
   "source": [
    "### Алгоритмы:\n",
    "\n",
    "Алгоритм Флойда-Уоршелла| Алгоритм Дейкстры | Алгоритм Беллмана-Форда | Алгоритм Джонсона| Алгоритм Левита | Алгоритм Йена\n",
    "\n"
   ]
  },
  {
   "cell_type": "markdown",
   "metadata": {
    "id": "Wggfn8l7nG72"
   },
   "source": [
    "### Выполнение:"
   ]
  },
  {
   "cell_type": "code",
   "execution_count": 4,
   "metadata": {
    "id": "681a95mZnOSa"
   },
   "outputs": [],
   "source": [
    "import numpy as np\n",
    "import networkx as nx\n",
    "import matplotlib.pyplot as plt\n",
    "import math"
   ]
  },
  {
   "cell_type": "code",
   "execution_count": 15,
   "metadata": {},
   "outputs": [],
   "source": [
    "def read_matrix(filename):\n",
    "    my_file = open(filename, 'r', encoding = \"utf-8\")\n",
    "    matrix = []\n",
    "    for line in my_file:\n",
    "        node = line.split()\n",
    "        temp = []\n",
    "        for element in node:\n",
    "            temp.append(int(element))\n",
    "        matrix.append(temp)\n",
    "    my_file.close()\n",
    "    return matrix\n",
    "\n",
    "\n",
    " \n",
    "def create_graph(graph, matrix, way = [], node_color='blue',edge_color = 'blue', \n",
    "                 edge_text_pos = 0.5, node_size=1600, node_alpha=0.3,\n",
    "                 way_color = 'red', edge_alpha=0.3, edge_tickness=1, \n",
    "                 node_text_size=12, text_font='sans-serif'):\n",
    "    \n",
    "    matrix_size = len(matrix)\n",
    "    for i in range(matrix_size):\n",
    "        graph.add_node(i + 1,pos = (i + 2,i * 2))\n",
    "        \n",
    "    edges = []\n",
    "    sides = []\n",
    "    colors = []\n",
    "    for i in range(matrix_size):\n",
    "        for j in range(matrix_size):\n",
    "            if matrix[i][j] != 0:\n",
    "                graph.add_edge(i + 1, j + 1, weight = matrix[i][j], color = 'green')\n",
    "                edges.append((i + 1, j + 1))\n",
    "                sides.append(matrix[i][j])\n",
    "                if (i + 1, j + 1) not in way:\n",
    "                    colors.append(edge_color)\n",
    "                else:\n",
    "                    colors.append(way_color)\n",
    "    \n",
    "    # layout set\n",
    "    graph_pos = nx.planar_layout(graph)\n",
    "    # draw graph\n",
    "    nx.draw_networkx_nodes(graph,graph_pos,node_size=node_size,alpha=node_alpha, node_color=node_color)\n",
    "    nx.draw_networkx_edges(graph,graph_pos,width=edge_tickness,alpha=edge_alpha,edge_color=colors)\n",
    "    nx.draw_networkx_labels(graph, graph_pos,font_size=node_text_size, font_family=text_font)\n",
    "    \n",
    "       \n",
    "    edge_labels = dict(zip(edges, sides))\n",
    "    nx.draw_networkx_edge_labels(graph, graph_pos, edge_labels=edge_labels, label_pos=edge_text_pos)\n",
    "\n",
    "    # show graph\n",
    "    plt.figure(figsize=(10,10))\n",
    "    plt.show()"
   ]
  },
  {
   "cell_type": "code",
   "execution_count": 17,
   "metadata": {},
   "outputs": [
    {
     "data": {
      "image/png": "[encoded data removed]",
      "text/plain": [
       "<Figure size 432x288 with 1 Axes>"
      ]
     },
     "metadata": {},
     "output_type": "display_data"
    },
    {
     "data": {
      "text/plain": [
       "<Figure size 720x720 with 0 Axes>"
      ]
     },
     "metadata": {},
     "output_type": "display_data"
    }
   ],
   "source": [
    "graph = nx.DiGraph()\n",
    "matrix = read_matrix('src/lab_06_02_in.txt')\n",
    "create_graph(graph, matrix)\n",
    "\n",
    "labels = nx.get_edge_attributes(graph,'weight')\n",
    "nodes_len = len(graph.nodes)\n",
    "adj_matrix = np.array([[math.inf] * nodes_len] * nodes_len)\n",
    "\n",
    "for pos, length in labels.items():\n",
    "    adj_matrix[pos[0] - 1][pos[1] - 1] = length"
   ]
  },
  {
   "cell_type": "markdown",
   "metadata": {},
   "source": [
    "###  Алгоритм Флойда-Уоршелла"
   ]
  },
  {
   "cell_type": "code",
   "execution_count": null,
   "metadata": {},
   "outputs": [],
   "source": [
    "    "
   ]
  },
  {
   "cell_type": "markdown",
   "metadata": {},
   "source": [
    "### Алгоритм Дейкстры"
   ]
  },
  {
   "cell_type": "code",
   "execution_count": 16,
   "metadata": {},
   "outputs": [
    {
     "data": {
      "image/png": "[encoded data removed]",
      "text/plain": [
       "<Figure size 432x288 with 1 Axes>"
      ]
     },
     "metadata": {},
     "output_type": "display_data"
    },
    {
     "data": {
      "text/plain": [
       "<Figure size 720x720 with 0 Axes>"
      ]
     },
     "metadata": {},
     "output_type": "display_data"
    }
   ],
   "source": [
    "def arg_min(T, S):\n",
    "    amin = -1\n",
    "    maximal = math.inf  # максимальное значение\n",
    "    for i, t in enumerate(T):\n",
    "        if t < maximal and i not in S:\n",
    "            maximal = t\n",
    "            amin = i\n",
    "    return amin\n",
    "\n",
    "def dijkstra_way(matrix, start, end):\n",
    "    nodes_len = len(matrix[0])  # число вершин в графе\n",
    "    T = [math.inf] * nodes_len   # последняя строка таблицы\n",
    "\n",
    "    start_pos = 0       # стартовая вершина (нумерация с нуля)\n",
    "    visited_nodes = {start_pos}     # просмотренные вершины\n",
    "    T[start_pos] = 0    # нулевой вес для стартовой вершины\n",
    "    M = [0] * nodes_len   # оптимальные связи между вершинами\n",
    "\n",
    "    while start_pos != -1:          # цикл, пока не просмотрим все вершины\n",
    "        for j, dw in enumerate(matrix[start_pos]):   # перебираем все связанные вершины с вершиной v\n",
    "            if j not in visited_nodes:    # если вершина еще не просмотрена\n",
    "                w = T[start_pos] + dw\n",
    "                if w < T[j]:\n",
    "                    T[j] = w\n",
    "                    M[j] = start_pos       # связываем вершину j с вершиной v\n",
    "\n",
    "        start_pos = arg_min(T, visited_nodes)            # выбираем следующий узел с наименьшим весом\n",
    "        if start_pos >= 0:                    # выбрана очередная вершина\n",
    "            visited_nodes.add(start_pos)                 # добавляем новую вершину в рассмотрение\n",
    "\n",
    "    # формирование оптимального маршрута:\n",
    "    \n",
    "    way = [end]\n",
    "    while end != start:\n",
    "        end = M[way[-1]]\n",
    "        way.append(end)\n",
    "    # преобразуем ответ в список ребер для оптимального пути\n",
    "    result = []\n",
    "    \n",
    "    for i in range(len(way) - 1, 0, -1):\n",
    "        result.append((way[i] + 1, way[i - 1] + 1))\n",
    "        \n",
    "    return result\n",
    "\n",
    "start = 1\n",
    "end = 5\n",
    "create_graph(graph, matrix, way = dijkstra_way(adj_matrix, start - 1, end - 1))"
   ]
  },
  {
   "cell_type": "markdown",
   "metadata": {},
   "source": [
    "### Алгоритм Беллмана-Форда"
   ]
  },
  {
   "cell_type": "code",
   "execution_count": null,
   "metadata": {},
   "outputs": [],
   "source": []
  },
  {
   "cell_type": "markdown",
   "metadata": {},
   "source": [
    "### Алгоритм Джонсона"
   ]
  },
  {
   "cell_type": "code",
   "execution_count": null,
   "metadata": {},
   "outputs": [],
   "source": []
  },
  {
   "cell_type": "markdown",
   "metadata": {},
   "source": [
    "### Алгоритм Левита"
   ]
  },
  {
   "cell_type": "code",
   "execution_count": null,
   "metadata": {},
   "outputs": [],
   "source": []
  },
  {
   "cell_type": "markdown",
   "metadata": {},
   "source": [
    "### Алгоритм Йена"
   ]
  },
  {
   "cell_type": "code",
   "execution_count": null,
   "metadata": {},
   "outputs": [],
   "source": []
  },
  {
   "cell_type": "markdown",
   "metadata": {
    "id": "diOb-K7LnO5a"
   },
   "source": [
    "### Вывод"
   ]
  },
  {
   "cell_type": "markdown",
   "metadata": {},
   "source": []
  },
  {
   "cell_type": "code",
   "execution_count": null,
   "metadata": {},
   "outputs": [],
   "source": []
  }
 ],
 "metadata": {
  "colab": {
   "name": "Lab6.ipynb",
   "provenance": []
  },
  "kernelspec": {
   "display_name": "Python 3 (ipykernel)",
   "language": "python",
   "name": "python3"
  },
  "language_info": {
   "codemirror_mode": {
    "name": "ipython",
    "version": 3
   },
   "file_extension": ".py",
   "mimetype": "text/x-python",
   "name": "python",
   "nbconvert_exporter": "python",
   "pygments_lexer": "ipython3",
   "version": "3.9.7"
  }
 },
 "nbformat": 4,
 "nbformat_minor": 1
}

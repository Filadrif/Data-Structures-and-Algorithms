{
 "cells": [
  {
   "cell_type": "markdown",
   "id": "fifteen-sailing",
   "metadata": {},
   "source": [
    "# Лабораторная работа №4\n",
    "## Выполнил студент группы БВТ2005 Мокин Александр"
   ]
  },
  {
   "cell_type": "markdown",
   "id": "arctic-stocks",
   "metadata": {},
   "source": [
    "Реализовать следующие структуры данных:\n",
    "  \n",
    "● <b> Стек (stack): </b>  \n",
    "Операции для стека: \n",
    "<i> инициализация, проверка на пустоту, добавление нового элемента в начало, извлечение элемента из начала;  </i>  \n",
    "  \n",
    "● <b> Дек (двусторонняя очередь, deque):  </b>  \n",
    "Операции для дека: \n",
    "<i> инициализация, проверка на пустоту, добавление нового элемента в начало, добавление нового элемента в конец, извлечение элемента из начала, извлечение элемента из конца. </i>  \n",
    "  \n",
    "<i> Разработать программу обработки данных, содержащихся в заранее подготовленном txt-файле, в соответствии с заданиями, применив указанную в задании структуру данных. Результат работы программы вывести на экран и сохранить в отдельном txt-файле. </i>"
   ]
  },
  {
   "cell_type": "markdown",
   "id": "d55ceeb2",
   "metadata": {},
   "source": [
    "# Реализация стека"
   ]
  },
  {
   "cell_type": "code",
   "execution_count": 23,
   "id": "49512211",
   "metadata": {},
   "outputs": [],
   "source": [
    "class Stack():\n",
    "    def __init__(self):\n",
    "        self.items = []\n",
    "        \n",
    "    def is_empty(self):\n",
    "        return self.items == []\n",
    "    \n",
    "    def size(self):\n",
    "        return len(self.items)\n",
    "    \n",
    "    def pop(self):\n",
    "        return self.items.pop()\n",
    "    \n",
    "    def append(self, item):\n",
    "        self.items.append(item)"
   ]
  },
  {
   "cell_type": "markdown",
   "id": "8e709bef",
   "metadata": {},
   "source": [
    "# Реализация дека"
   ]
  },
  {
   "cell_type": "code",
   "execution_count": 39,
   "id": "eb812ca4",
   "metadata": {},
   "outputs": [],
   "source": [
    "class Deque:\n",
    "    def __init__(self):\n",
    "        self.items = []\n",
    "\n",
    "    def is_empty(self):\n",
    "        return self.items == []\n",
    "\n",
    "    def add_right(self, item):\n",
    "        self.items.append(item)\n",
    "\n",
    "    def add_left(self, item):\n",
    "        self.items.insert(0, item)\n",
    "\n",
    "    def pop_right(self):\n",
    "        return self.items.pop()\n",
    "\n",
    "    def pop_left(self):\n",
    "        return self.items.pop(0)\n",
    "\n",
    "    def size(self):\n",
    "        return len(self.items)"
   ]
  },
  {
   "cell_type": "markdown",
   "id": "5d7edb08",
   "metadata": {
    "scrolled": true
   },
   "source": [
    "### Задание №1\n",
    "Отсортировать строки файла, содержащие названия книг, в алфавитном порядке с использованием двух деков."
   ]
  },
  {
   "cell_type": "code",
   "execution_count": 101,
   "id": "17702ade",
   "metadata": {},
   "outputs": [],
   "source": [
    "def book_sort(in_file, out_file):\n",
    "    in_file = open(in_file,'r', encoding = \"utf-8\")\n",
    "    \n",
    "    deque_1 = Deque()\n",
    "    deque_2 = Deque()\n",
    "    \n",
    "    for line in in_file:\n",
    "        deque_1.add_right(line)\n",
    "    temp = deque_1.pop_right()\n",
    "    deque_1.add_right(temp + '\\n')\n",
    "    in_file.close()\n",
    "    \n",
    "    out_file = open(out_file,'w', encoding = \"utf-8\")\n",
    "    out_file.close()\n",
    "\n",
    "book_sort('src/lab_04_01_in.txt','src/lab_04_01_out.txt')"
   ]
  },
  {
   "cell_type": "markdown",
   "id": "49fbd2a0",
   "metadata": {},
   "source": [
    "### Задание №2\n",
    "Дек содержит последовательность символов для шифровки сообщений. Дан текстовый файл, содержащий зашифрованное сообщение. Пользуясь деком, расшифровать текст. \n",
    "Известно, что при шифровке каждый символ сообщения заменялся следующим за ним в деке по часовой стрелке через один."
   ]
  },
  {
   "cell_type": "code",
   "execution_count": null,
   "id": "81cab7a8",
   "metadata": {},
   "outputs": [],
   "source": [
    "def encrypt(text):\n",
    "    result = \"\"\n",
    "    for symbol in text:\n",
    "        pass\n",
    "    return result\n",
    "\n",
    "deque = Deque()\n",
    "start = 'а'\n",
    "for i in range(32):\n",
    "    deque.add_left(chr(ord(start) + i))\n",
    "    \n",
    "\n",
    "my_file = open(\"src/lab_04_02_in.txt\", \"r\", encoding = \"utf-8\"):\n",
    "text = my_file.read() + '\\n'\n",
    "result = encrypt(text)\n",
    "print(result)"
   ]
  },
  {
   "cell_type": "markdown",
   "id": "c0894f47",
   "metadata": {},
   "source": [
    "### Задание №3\n",
    "Даны три стержня и n дисков различного размера. Диски можно надевать на стержни, образуя из них башни. Перенести n дисков со стержня А на стержень С, сохранив их первоначальный порядок. При переносе дисков необходимо соблюдать следующие правила:\n",
    "- на каждом шаге со стержня на стержень переносить только один диск;\n",
    "- диск нельзя помещать на диск меньшего размера;\n",
    "- для промежуточного хранения можно использовать стержень В.\n",
    "Реализовать алгоритм, используя три стека вместо стержней А, В, С. Информация о дисках хранится в исходном файле."
   ]
  },
  {
   "cell_type": "code",
   "execution_count": 98,
   "id": "9e91a9d4",
   "metadata": {},
   "outputs": [
    {
     "name": "stdout",
     "output_type": "stream",
     "text": [
      "Исходное положение первого стержня\n",
      " ['16', '12', '8', '4', '2', '1']\n",
      "moving disk from 1 to 3\n",
      "moving disk from 1 to 2\n",
      "moving disk from 3 to 2\n",
      "moving disk from 1 to 3\n",
      "moving disk from 2 to 1\n",
      "moving disk from 2 to 3\n",
      "moving disk from 1 to 3\n",
      "moving disk from 1 to 2\n",
      "moving disk from 3 to 2\n",
      "moving disk from 3 to 1\n",
      "moving disk from 2 to 1\n",
      "moving disk from 3 to 2\n",
      "moving disk from 1 to 3\n",
      "moving disk from 1 to 2\n",
      "moving disk from 3 to 2\n",
      "moving disk from 1 to 3\n",
      "moving disk from 2 to 1\n",
      "moving disk from 2 to 3\n",
      "moving disk from 1 to 3\n",
      "moving disk from 2 to 1\n",
      "moving disk from 3 to 2\n",
      "moving disk from 3 to 1\n",
      "moving disk from 2 to 1\n",
      "moving disk from 2 to 3\n",
      "moving disk from 1 to 3\n",
      "moving disk from 1 to 2\n",
      "moving disk from 3 to 2\n",
      "moving disk from 1 to 3\n",
      "moving disk from 2 to 1\n",
      "moving disk from 2 to 3\n",
      "moving disk from 1 to 3\n",
      "moving disk from 1 to 2\n",
      "moving disk from 3 to 2\n",
      "moving disk from 3 to 1\n",
      "moving disk from 2 to 1\n",
      "moving disk from 3 to 2\n",
      "moving disk from 1 to 3\n",
      "moving disk from 1 to 2\n",
      "moving disk from 3 to 2\n",
      "moving disk from 3 to 1\n",
      "moving disk from 2 to 1\n",
      "moving disk from 2 to 3\n",
      "moving disk from 1 to 3\n",
      "moving disk from 2 to 1\n",
      "moving disk from 3 to 2\n",
      "moving disk from 3 to 1\n",
      "moving disk from 2 to 1\n",
      "moving disk from 3 to 2\n",
      "moving disk from 1 to 3\n",
      "moving disk from 1 to 2\n",
      "moving disk from 3 to 2\n",
      "moving disk from 1 to 3\n",
      "moving disk from 2 to 1\n",
      "moving disk from 2 to 3\n",
      "moving disk from 1 to 3\n",
      "moving disk from 1 to 2\n",
      "moving disk from 3 to 2\n",
      "moving disk from 3 to 1\n",
      "moving disk from 2 to 1\n",
      "moving disk from 3 to 2\n",
      "moving disk from 1 to 3\n",
      "moving disk from 1 to 2\n",
      "moving disk from 3 to 2\n",
      "Итоговое положение третьего стержня\n",
      " ['16', '12', '8', '4', '2', '1']\n"
     ]
    }
   ],
   "source": [
    "def hanoi_tower(height,fromPole, toPole, withPole, rods):\n",
    "    if height == 1:\n",
    "        moveDisk(rods, fromPole,toPole)\n",
    "    else:\n",
    "        hanoi_tower(height-1,fromPole,withPole,toPole, rods)\n",
    "        moveDisk(rods, fromPole,toPole)\n",
    "        hanoi_tower(height-1,withPole,toPole,fromPole,rods)\n",
    "\n",
    "def moveDisk(rods,fp,tp):\n",
    "    print(\"moving disk from\",fp + 1,\"to\",tp + 1)\n",
    "    rods[tp].append(rods[fp].pop())\n",
    "\n",
    "rods = [Stack()] * 3\n",
    "my_file = open(\"src/lab_04_03_in.txt\", \"r\", encoding = \"utf-8\")\n",
    "line = my_file.read()\n",
    "line = line.split(\" \")\n",
    "for i in range(len(line) - 1, -1, -1):\n",
    "    rods[0].append(line[i])\n",
    "\n",
    "print('Исходное положение первого стержня\\n', rods[0].items)\n",
    "hanoi_tower(rods[0].size(),0, 1, 2, rods)\n",
    "print('Итоговое положение третьего стержня\\n', rods[2].items)\n",
    "\n",
    "my_file.close()"
   ]
  },
  {
   "cell_type": "markdown",
   "id": "e5b0be17",
   "metadata": {},
   "source": [
    "### Задание №4\n",
    "Дан текстовый файл с программой на алгоритмическом языке. За один просмотр файла проверить баланс круглых скобок в тексте, используя стек."
   ]
  },
  {
   "cell_type": "code",
   "execution_count": 24,
   "id": "5b1df60a",
   "metadata": {},
   "outputs": [
    {
     "name": "stdout",
     "output_type": "stream",
     "text": [
      "True\n"
     ]
    }
   ],
   "source": [
    "def round_balance(filename): \n",
    "    my_file = open(filename, \"r\", encoding = \"utf-8\")\n",
    "    stack = Stack()\n",
    "    for line in my_file:\n",
    "        for symbol in line:\n",
    "            if symbol == '(':\n",
    "                stack.append(symbol)\n",
    "            elif symbol == ')':\n",
    "                if stack.is_empty():\n",
    "                    my_file.close()\n",
    "                    return False\n",
    "                else:\n",
    "                    stack.pop()\n",
    "    my_file.close()\n",
    "    if stack.is_empty():\n",
    "        return True \n",
    "    else:\n",
    "        return False\n",
    "\n",
    "print(round_balance('src/lab_04_05_in.txt'))"
   ]
  },
  {
   "cell_type": "markdown",
   "id": "c44cdd6b",
   "metadata": {},
   "source": [
    "### Задание №5\n",
    "Дан текстовый файл с программой на алгоритмическом языке. За один просмотр файла проверить баланс квадратных скобок в тексте, используя дек."
   ]
  },
  {
   "cell_type": "code",
   "execution_count": 16,
   "id": "36b8f400",
   "metadata": {},
   "outputs": [
    {
     "name": "stdout",
     "output_type": "stream",
     "text": [
      "True\n"
     ]
    }
   ],
   "source": [
    "def square_balance(filename): \n",
    "    my_file = open(filename, \"r\", encoding = \"utf-8\")\n",
    "    deque = Deque()\n",
    "    for line in my_file:\n",
    "        for symbol in line:\n",
    "            if symbol == '[':\n",
    "                deque.add_right(symbol)\n",
    "            elif symbol == ']':\n",
    "                if deque.is_empty():\n",
    "                    my_file.close()\n",
    "                    return False\n",
    "                else:\n",
    "                    deque.pop_right()\n",
    "    my_file.close()\n",
    "    if deque.is_empty():\n",
    "        return True  \n",
    "    else: \n",
    "        return False\n",
    "\n",
    "print(square_balance('src/lab_04_05_in.txt'))"
   ]
  },
  {
   "cell_type": "markdown",
   "id": "59d13dc7",
   "metadata": {},
   "source": [
    "### Задание №6\n",
    "Дан файл из символов. Используя стек, за один просмотр файла напечатать сначала все цифры, затем все буквы, и, наконец, все остальные символы, сохраняя исходный порядок в каждой группе символов."
   ]
  },
  {
   "cell_type": "code",
   "execution_count": 85,
   "id": "297e36c2",
   "metadata": {},
   "outputs": [
    {
     "name": "stdout",
     "output_type": "stream",
     "text": [
      "Исходный файл\n",
      "\n",
      "123ti!va77&@fla#\n",
      "\n",
      "Отсортированный файл\n",
      " 1 2 3 7 7 t i v a f l a ! & @ # \n"
     ]
    }
   ],
   "source": [
    "def symbol_sort(filename):\n",
    "    digits = Stack()\n",
    "    letters = Stack()\n",
    "    symbols = Stack()\n",
    "    \n",
    "    my_file = open(filename, \"r\", encoding = \"utf-8\")\n",
    "    for line in my_file:\n",
    "        for element in line:\n",
    "            if element.isnumeric():\n",
    "                digits.append(element)\n",
    "            elif element.isalpha():\n",
    "                letters.append(element)\n",
    "            elif element != ' ' or element != '\\n':\n",
    "                symbols.append(element)\n",
    "                \n",
    "    my_file.close()\n",
    "    \n",
    "    result = ''\n",
    " \n",
    "    while not symbols.is_empty():\n",
    "        result = symbols.pop() + ' ' + result\n",
    "        \n",
    "    while not letters.is_empty():\n",
    "        result = letters.pop() + ' '  + result\n",
    "        \n",
    "    while not digits.is_empty():\n",
    "        result = digits.pop()  + ' ' + result  \n",
    "        \n",
    "    return result\n",
    "\n",
    "my_file = open('src/lab_04_06_in.txt', \"r\", encoding = \"utf-8\")\n",
    "print('Исходный файл\\n')\n",
    "for line in my_file:\n",
    "    print(line, end = '')\n",
    "\n",
    "my_file.close()\n",
    "\n",
    "print('\\n\\nОтсортированный файл\\n',symbol_sort('src/lab_04_06_in.txt'))"
   ]
  },
  {
   "cell_type": "markdown",
   "id": "973f68bd",
   "metadata": {},
   "source": [
    "### Задание №7\n",
    "Дан файл из целых чисел. Используя дек, за один просмотр файла напечатать сначала все отрицательные числа, затем все положительные числа, сохраняя исходный порядок в каждой группе."
   ]
  },
  {
   "cell_type": "code",
   "execution_count": 65,
   "id": "c56fad66",
   "metadata": {},
   "outputs": [
    {
     "name": "stdout",
     "output_type": "stream",
     "text": [
      "Исходный файл\n",
      "\n",
      "1 5 -7 8 \n",
      "-6 22 19\n",
      "\n",
      "Результат работы программы\n",
      "-7 -6 1 5 8 22 19 \n"
     ]
    }
   ],
   "source": [
    "def numbers_sort(filename):\n",
    "    deque = Deque()\n",
    "    \n",
    "    my_file = open('src/lab_04_07_in.txt', \"r\", encoding = \"utf-8\")\n",
    "    for line in my_file:\n",
    "        numbers = line.split()\n",
    "        for number in numbers:\n",
    "            #print('-',number,'-')\n",
    "            if int(number) >= 0:\n",
    "                deque.add_right(int(number))\n",
    "            else:\n",
    "                deque.add_left(int(number))\n",
    "                \n",
    "    my_file.close()\n",
    "    \n",
    "    print('\\n\\nРезультат работы программы')\n",
    "    result = \"\"\n",
    "    temp = deque.pop_left()\n",
    "    while not deque.is_empty() and temp < 0:\n",
    "        result = str(temp) + ' ' + result\n",
    "        temp = deque.pop_left()\n",
    "        \n",
    "    result += str(temp) + ' '\n",
    "    while not deque.is_empty():\n",
    "        result += str(deque.pop_left()) + ' '\n",
    "    print(result)\n",
    "            \n",
    "my_file = open('src/lab_04_07_in.txt', \"r\", encoding = \"utf-8\")\n",
    "print('Исходный файл\\n')\n",
    "for line in my_file:\n",
    "    print(line, end = '')\n",
    "\n",
    "my_file.close()\n",
    "\n",
    "numbers_sort('src/lab_04_07_in.txt')"
   ]
  },
  {
   "cell_type": "markdown",
   "id": "b9228191",
   "metadata": {},
   "source": [
    "### Задание №8\n",
    "Дан текстовый файл. Используя стек, сформировать новый текстовый файл, содержащий строки исходного файла, записанные в обратном порядке: первая строка становится последней, вторая – предпоследней и т.д."
   ]
  },
  {
   "cell_type": "code",
   "execution_count": 38,
   "id": "981fbdfe",
   "metadata": {},
   "outputs": [
    {
     "name": "stdout",
     "output_type": "stream",
     "text": [
      "Исходный файл\n",
      "\n",
      "C треском лопнул кувшин:\n",
      "Ночью вода в нём замёрзла.\n",
      "Я пробудился вдруг.\n",
      "\n",
      "Квакает жаба.\n",
      "Пойду, познакомлюсь с животным.\n",
      "Может, надую...\n",
      "\n",
      "Отредактированный файл\n",
      "\n",
      "Может, надую...\n",
      "Пойду, познакомлюсь с животным.\n",
      "Квакает жаба.\n",
      "\n",
      "Я пробудился вдруг.\n",
      "Ночью вода в нём замёрзла.\n",
      "C треском лопнул кувшин:\n"
     ]
    }
   ],
   "source": [
    "def reverse_file(in_file, out_file):\n",
    "    stack = Stack()\n",
    "    my_file = open(in_file, \"r\", encoding = \"utf-8\")\n",
    "    for line in my_file:\n",
    "        stack.append(line)\n",
    "    my_file.close()\n",
    "    \n",
    "    temp = stack.pop()\n",
    "    stack.append(temp + '\\n')\n",
    "    \n",
    "    my_file = open(out_file, \"w\", encoding = \"utf-8\")\n",
    "    while not stack.is_empty():\n",
    "        my_file.write(stack.pop())\n",
    "    my_file.close()\n",
    "    \n",
    "\n",
    "in_file = 'src/lab_04_08_in.txt'\n",
    "out_file = 'src/lab_04_08_out.txt'\n",
    "\n",
    "my_file = open(in_file, \"r\", encoding = \"utf-8\")\n",
    "print('Исходный файл\\n')\n",
    "for line in my_file:\n",
    "    print(line, end = '')\n",
    "    \n",
    "my_file.close()\n",
    "\n",
    "reverse_file(in_file, out_file)\n",
    "\n",
    "my_file = open(out_file, \"r\", encoding = \"utf-8\")\n",
    "print('\\n\\nОтредактированный файл\\n')\n",
    "for line in my_file:\n",
    "    print(line, end = '')\n",
    "    \n",
    "my_file.close()"
   ]
  },
  {
   "cell_type": "markdown",
   "id": "rental-jerusalem",
   "metadata": {},
   "source": [
    "### Вывод\n"
   ]
  },
  {
   "cell_type": "markdown",
   "id": "0c2b8899",
   "metadata": {},
   "source": []
  }
 ],
 "metadata": {
  "kernelspec": {
   "display_name": "Python 3 (ipykernel)",
   "language": "python",
   "name": "python3"
  },
  "language_info": {
   "codemirror_mode": {
    "name": "ipython",
    "version": 3
   },
   "file_extension": ".py",
   "mimetype": "text/x-python",
   "name": "python",
   "nbconvert_exporter": "python",
   "pygments_lexer": "ipython3",
   "version": "3.9.7"
  }
 },
 "nbformat": 4,
 "nbformat_minor": 5
}

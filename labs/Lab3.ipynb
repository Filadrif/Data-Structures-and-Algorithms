{
 "cells": [
  {
   "cell_type": "markdown",
   "id": "db4b50f0",
   "metadata": {},
   "source": [
    "# Лабораторная работа №3\n",
    "## Выполнил студент группы БВТ2005 Мокин Александр"
   ]
  },
  {
   "cell_type": "markdown",
   "id": "annual-symbol",
   "metadata": {},
   "source": [
    "### Оглавление\n",
    "1. [Задание 1](#Задание-№1)\n",
    "2. [Задание 2](#Задание-№2)\n",
    "4. [Вывод](#Вывод)"
   ]
  },
  {
   "cell_type": "markdown",
   "id": "independent-spirit",
   "metadata": {},
   "source": [
    "> Дополнительные модули, использованные при выполнение лабораторной"
   ]
  },
  {
   "cell_type": "code",
   "execution_count": 27,
   "id": "4839be2b",
   "metadata": {},
   "outputs": [],
   "source": [
    "# Необходим при замере скорости выполнения кода\n",
    "from datetime import datetime as t\n",
    "# Нужен для создания словаря в алг. Бойера-Мура\n",
    "from collections import defaultdict"
   ]
  },
  {
   "cell_type": "markdown",
   "id": "inclusive-motorcycle",
   "metadata": {},
   "source": [
    "### Задание №1\n",
    "Реализовать методы поиска подстроки в строке. Добавить возможность ввода строки и подстроки с клавиатуры. Предусмотреть возможность существования пробела. Реализовать возможность выбора опции чувствительности или нечувствительности к регистру. Оценить время работы каждого алгоритма поиска и сравнить его со временем работы стандартной функции поиска, используемой в выбранном языке программирования."
   ]
  },
  {
   "cell_type": "markdown",
   "id": "interracial-communication",
   "metadata": {},
   "source": [
    "#### Алгоритм Кнута-Морриса-Пратта"
   ]
  },
  {
   "cell_type": "code",
   "execution_count": 35,
   "id": "presidential-level",
   "metadata": {},
   "outputs": [
    {
     "name": "stdout",
     "output_type": "stream",
     "text": [
      "1\n",
      "5\n",
      "--- 0 ms ---\n"
     ]
    }
   ],
   "source": [
    "# reg = 0 - регистр не учитывается, reg = 1 - регистр учитывается\n",
    "def prefix(line):\n",
    "    pi = [0] * len(line)\n",
    "    for i in range(1, len(line)):\n",
    "        j = pi[i - 1]\n",
    "        while j > 0 and line[i] != line[j]:\n",
    "            j = pi[j - 1]\n",
    "        if line[j] == line[i]:\n",
    "            j += 1\n",
    "        pi[i] = j\n",
    "    return pi\n",
    "\n",
    "def kmp_search(line, subline, registr):\n",
    "    index = -1\n",
    "    \n",
    "    if len(subline) > len(line):\n",
    "        return index\n",
    "    if registr == 0:\n",
    "        subline = subline.lower()\n",
    "        line = line.lower()\n",
    "    \n",
    "    j = 0\n",
    "    i = 0\n",
    "    pi = prefix(subline)\n",
    "\n",
    "    while i < len(line):\n",
    "        if subline[j] == line[i]:\n",
    "            i += 1\n",
    "            j += 1\n",
    "            if j == len(subline):\n",
    "                index = i - len(subline)\n",
    "                break\n",
    "        elif j > 0:\n",
    "            j = pi[j-1]\n",
    "        else:\n",
    "            i += 1\n",
    "    \n",
    "    return index\n",
    "\n",
    "\n",
    "start = t.now()\n",
    "print(kmp_search('help me pls','elp',0))\n",
    "print(kmp_search('аaabbaabaabaabbaaabaabaabaabaabbaabb','aabaa',1))\n",
    "finish = t.now() - start\n",
    "print(\"--- {0} ms ---\".format(finish.microseconds))"
   ]
  },
  {
   "cell_type": "markdown",
   "id": "downtown-option",
   "metadata": {},
   "source": [
    "#### Упрощенный алгоритм Бойера-Мура"
   ]
  },
  {
   "cell_type": "code",
   "execution_count": 38,
   "id": "respective-reggae",
   "metadata": {},
   "outputs": [
    {
     "name": "stdout",
     "output_type": "stream",
     "text": [
      "1\n",
      "5\n",
      "--- 0 ms ---\n"
     ]
    }
   ],
   "source": [
    "# reg = 0 - регистр не учитывается, reg = 1 - регистр учитывается\n",
    "def bm_search(line, subline, registr):\n",
    "    if len(subline) > len(line):\n",
    "        return -1\n",
    "    if registr == 0:\n",
    "        subline = subline.lower()\n",
    "        line = line.lower()\n",
    "        \n",
    "    # первый этап - создаем таблицу смещений\n",
    "    shifts = defaultdict()  \n",
    "\n",
    "    for i in range(len(subline) - 2, -1, -1):\n",
    "        if subline[i] not in shifts.keys():        \n",
    "            shifts[subline[i]] = len(subline) - i - 1\n",
    "            \n",
    "\n",
    "    if subline[len(subline)-1] not in shifts.keys():     \n",
    "        shifts[subline[len(subline) - 1]] = len(subline)\n",
    "\n",
    "    shifts['*'] = len(subline)             \n",
    "\n",
    "    # второй этап - поиск образа в строке\n",
    "    i = len(subline) - 1       \n",
    "    while i < len(line):\n",
    "        k = 0\n",
    "        j = 0\n",
    "        flag = False\n",
    "        for j in range(len(subline) - 1, -1, -1):\n",
    "            if line[i - k] != subline[j]:\n",
    "                if j == len(subline) - 1:\n",
    "                    if shifts.get(line[i], False):\n",
    "                        off = shifts[line[i]]  \n",
    "                    else:\n",
    "                        shifts['*'] \n",
    "                else:\n",
    "                    off = shifts[subline[j]]   \n",
    "                i += off    \n",
    "                flag = True \n",
    "                break\n",
    "            k += 1          \n",
    "        if not flag:          \n",
    "            return i - k + 1\n",
    "    else:\n",
    "        return -1\n",
    "\n",
    "    \n",
    "start = t.now()   \n",
    "print(bm_search('help me pls','elp',0))\n",
    "print(bm_search('аaabbaabaabaabbaaabaabaabaabaabbaabb','aabaa',1))\n",
    "finish = t.now() - start\n",
    "print(\"--- {0} ms ---\".format(finish.microseconds))"
   ]
  },
  {
   "cell_type": "markdown",
   "id": "ba111f5f",
   "metadata": {},
   "source": [
    "#### Встроенный поиск"
   ]
  },
  {
   "cell_type": "code",
   "execution_count": 36,
   "id": "ea928133",
   "metadata": {},
   "outputs": [
    {
     "name": "stdout",
     "output_type": "stream",
     "text": [
      "1\n",
      "5\n",
      "--- 0 ms ---\n"
     ]
    }
   ],
   "source": [
    "start = t.now()\n",
    "print('help me pls'.find('elp'))\n",
    "print(bm_search('аaabbaabaabaabbaaabaabaabaabaabbaabb','aabaa',1))\n",
    "finish = t.now() - start\n",
    "print(\"--- {0} ms ---\".format(finish.microseconds))"
   ]
  },
  {
   "cell_type": "markdown",
   "id": "hybrid-memorial",
   "metadata": {},
   "source": [
    "### Задание №2\n",
    "Написать программу, определяющую, является ли данное\n",
    "расположение «решаемым», то есть можно ли из него за конечное число\n",
    "шагов перейти к правильному. Если это возможно, то необходимо найти хотя\n",
    "бы одно решение - последовательность движений, после которой числа будут\n",
    "расположены в правильном порядке.\n",
    "#### Входные данные: массив чисел, представляющий собой расстановку в\n",
    "Порядке «слева направо, сверху вниз». Число 0 обозначает пустое поле.\n",
    "Например, массив [1, 2, 3, 4, 5, 6, 7, 8, 9, 10, 11, 12, 13, 14, 15, 0] представляет\n",
    "собой «решенную» позицию элементов.\n",
    "#### Выходные данные: если решения нет, то функция должна вернуть\n",
    "Пустой массив []. Если решение есть, то необходимо представить решение —\n",
    "для каждого шага записывается номер передвигаемого на данном шаге\n",
    "элемента. "
   ]
  },
  {
   "cell_type": "code",
   "execution_count": 25,
   "id": "eleven-generic",
   "metadata": {},
   "outputs": [
    {
     "name": "stdout",
     "output_type": "stream",
     "text": [
      "Решение расклада [1, 2, 3, 4, 5, 6, 7, 8, 9, 10, 11, 12, 13, 14, 15, 0] \n",
      " [1, 2, 3, 4, 5, 6, 7, 8, 9, 10, 11, 12, 13, 14, 15, 0]\n",
      "\n",
      "Решение расклада [1, 2, 3, 4, 5, 6, 7, 8, 9, 10, 11, 12, 13, 15, 14, 0] \n",
      " []\n",
      "\n",
      "Решение расклада [1, 2, 3, 4, 5, 6, 7, 8, 9, 10, 11, 12, 13, 14, 15, 0] \n",
      " [1, 2, 3, 4, 5, 6, 7, 8, 9, 10, 11, 12, 13, 14, 15, 0]\n",
      "\n"
     ]
    }
   ],
   "source": [
    "TABLE_SIZE = 4 \n",
    "def fifteen_puzzle(table):\n",
    "    e = (table.index(0) // TABLE_SIZE) + 1\n",
    "    N = e\n",
    "    element = 0\n",
    "    for i in range(len(table)):\n",
    "        counter = 0\n",
    "        for j in range(i, len(table)):\n",
    "            if table[i] > table[j] and table[j] != 0:\n",
    "                counter += 1\n",
    "        N += counter\n",
    "    if N % 2 == 0:\n",
    "        table.sort()\n",
    "        table.append(table.pop(0))\n",
    "        return table\n",
    "    else:\n",
    "        return []\n",
    "    \n",
    "\n",
    "table = [1, 2, 3, 4, 5, 6, 7, 8, 9, 10, 11, 12, 13, 14, 15, 0]\n",
    "print('Решение расклада', table, '\\n' ,fifteen_puzzle(table), end = '\\n\\n')\n",
    "table = [1, 2, 3, 4, 5, 6, 7, 8, 9, 10, 11, 12, 13, 15, 14, 0]\n",
    "print('Решение расклада', table, '\\n' ,fifteen_puzzle(table), end = '\\n\\n')\n",
    "table = [6, 2, 5, 7, 12, 1, 3, 4, 15, 9, 8, 10, 11, 13, 0, 14]\n",
    "print('Решение расклада', table, '\\n' ,fifteen_puzzle(table), end = '\\n\\n')"
   ]
  },
  {
   "cell_type": "markdown",
   "id": "arbitrary-amazon",
   "metadata": {},
   "source": [
    "### Вывод"
   ]
  },
  {
   "cell_type": "markdown",
   "id": "71bc58bf",
   "metadata": {},
   "source": []
  }
 ],
 "metadata": {
  "kernelspec": {
   "display_name": "Python 3 (ipykernel)",
   "language": "python",
   "name": "python3"
  },
  "language_info": {
   "codemirror_mode": {
    "name": "ipython",
    "version": 3
   },
   "file_extension": ".py",
   "mimetype": "text/x-python",
   "name": "python",
   "nbconvert_exporter": "python",
   "pygments_lexer": "ipython3",
   "version": "3.9.7"
  }
 },
 "nbformat": 4,
 "nbformat_minor": 5
}
